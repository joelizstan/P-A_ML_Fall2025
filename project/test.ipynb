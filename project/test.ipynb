{
 "cells": [
  {
   "cell_type": "code",
   "execution_count": 1,
   "id": "efed2b54",
   "metadata": {},
   "outputs": [],
   "source": [
    "import os\n",
    "import torch\n",
    "import torchvision\n",
    "import matplotlib.pyplot as plt"
   ]
  },
  {
   "cell_type": "code",
   "execution_count": 2,
   "id": "ea62d352",
   "metadata": {},
   "outputs": [],
   "source": [
    "def imagenormalization(image):\n",
    "    # Normalize the image to have pixel values between 0 and 1\n",
    "    min_val = torch.min(image)\n",
    "    max_val = torch.max(image)\n",
    "    normalized_image = (image - min_val) / (max_val - min_val)\n",
    "    return normalized_image\n",
    "\n",
    "def imagemetric(image1,image2):\n",
    "    manhattan_distance = torch.sum(torch.abs(image1 - image2))\n",
    "    return manhattan_distance"
   ]
  }
 ],
 "metadata": {
  "kernelspec": {
   "display_name": "d2l",
   "language": "python",
   "name": "python3"
  },
  "language_info": {
   "codemirror_mode": {
    "name": "ipython",
    "version": 3
   },
   "file_extension": ".py",
   "mimetype": "text/x-python",
   "name": "python",
   "nbconvert_exporter": "python",
   "pygments_lexer": "ipython3",
   "version": "3.9.23"
  }
 },
 "nbformat": 4,
 "nbformat_minor": 5
}
