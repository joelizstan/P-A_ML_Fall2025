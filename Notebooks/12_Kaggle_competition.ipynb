{
 "cells": [
  {
   "cell_type": "markdown",
   "id": "fe757389",
   "metadata": {},
   "source": [
    "# Ready for your first Kaggle competition?"
   ]
  },
  {
   "cell_type": "markdown",
   "id": "bf1ad510",
   "metadata": {},
   "source": [
    "Kaggle is a popular platform that hosts machine learning competitions.\n",
    "\n",
    "The platform helps users to interact via forums and shared code, fostering both collaboration and competition."
   ]
  },
  {
   "cell_type": "markdown",
   "id": "38c2d535",
   "metadata": {},
   "source": [
    "1. Go to the Kaggle competition [website](https://www.kaggle.com/competitions).\n",
    "2. Register for an account (it's free).\n",
    "3. Find the __House Prices - Advanced Regression Techniques__\n",
    "4. Go to the Data tab, read the description, download the data."
   ]
  },
  {
   "cell_type": "markdown",
   "id": "63cd52f3",
   "metadata": {},
   "source": [
    "## Inspect the data"
   ]
  },
  {
   "cell_type": "markdown",
   "id": "16e46675",
   "metadata": {},
   "source": [
    "Use pandas python package read the csv files and inspect the data: \n",
    "* How many examples? \n",
    "* How many features?\n",
    "* Are there non-numerial values? If so how do you handle these cases?\n",
    "* Are there NaNs? and if so how do you handle such cases?"
   ]
  },
  {
   "cell_type": "code",
   "execution_count": null,
   "id": "0b6c2ce1",
   "metadata": {},
   "outputs": [],
   "source": [
    "import pandas as pd\n",
    "\n",
    "# Useful tools:\n",
    "# df.hist()\n",
    "# df.head()"
   ]
  },
  {
   "cell_type": "markdown",
   "id": "dba8b3d7",
   "metadata": {},
   "source": [
    "## Class to load the Training, Validation and Test sets."
   ]
  },
  {
   "cell_type": "code",
   "execution_count": null,
   "id": "ee6dbfd0",
   "metadata": {},
   "outputs": [],
   "source": [
    "import torch\n",
    "from d2l import torch as d2l\n",
    "\n",
    "class KaggleHouse(d2l.DataModule):\n",
    "    def __init__(self, batch_size, train=None, val=None):\n",
    "        super().__init__()\n",
    "        self.save_hyperparameters()\n",
    "        if self.train is None:\n",
    "            # read the csv files:\n",
    "            self.raw_train = # ?????\n",
    "            self.raw_test = # ?????\n",
    "\n",
    "    def preprocess(self, train_frac=0.8):\n",
    "        \"\"\"All the things you noticed about the data that needs preprocessing \n",
    "           can be addressed here.\n",
    "        \"\"\"\n",
    "        label_col_name = \"\"\n",
    "        # We remove SalePrice (for the moment, as we do not want any pre-processing for it) and Id (for us it is useless)\n",
    "        # Useful tools: df.drop()\n",
    "        features_train = # Remove Id and label_col_name\n",
    "        features_test = # Remove Id\n",
    "\n",
    "        # Now the actual pre-processing step. We need to:\n",
    "        # - Handle NaN in numerical variables (there are multiple options, think which is best according to the dataset)\n",
    "        # - Standardize or normalize the numerical variables\n",
    "        # - Handle categorical features\n",
    "        # - Something else? Inspect the dataset at every step!\n",
    "        # NB: It could be useful to temporarely merge train and test set, why?\n",
    "        # Useful tools: df.dtypes, df.index, df.apply(), pd.get_dummies(), df.copy()\n",
    "\n",
    "        # Finalize pre-processing and separate train and val set\n",
    "        final_train = # Re-allocate the labels variable\n",
    "        \n",
    "        self.train = # Final train set\n",
    "        self.val = # Final validation set\n",
    "        self.test = # Final test set\n",
    "        print('Train shape:', self.train.shape)\n",
    "        print('Val shape:', self.val.shape)\n",
    "        print('Test shape:', self.test.shape)\n",
    "\n",
    "        # Sanity check: train and test must have the same number of features.\n",
    "\n",
    "    def get_dataloader(self, train):\n",
    "        \"\"\"Define the data tensor (features tensor, labels tensor reshaped appropriately (i.e. (-1, 1))).\n",
    "           Note: all the examples need ot be tensors so you need to pass the numpy arrays to torch.tensor.\n",
    "           Note: Better taking the Logarithm of prices.\"\"\"\n",
    "        \n",
    "        label = \"SalePrice\"\n",
    "        data = self.train if train else self.val\n",
    "        \n",
    "        if label not in data: \n",
    "            return\n",
    "        else:\n",
    "            features = # Drop labels again\n",
    "            labels = # But save them aside\n",
    "            tensors = (features, labels)\n",
    "            \n",
    "        return self.get_tensorloader(tensors, train)"
   ]
  },
  {
   "cell_type": "code",
   "execution_count": null,
   "id": "8951e8e5",
   "metadata": {},
   "outputs": [],
   "source": [
    "data = KaggleHouse(batch_size=64)"
   ]
  },
  {
   "cell_type": "code",
   "execution_count": null,
   "id": "fd9d4a6f",
   "metadata": {},
   "outputs": [],
   "source": [
    "# Insert some prints in the preprocess function so that you can verify everything is as expected\n",
    "data.preprocess()"
   ]
  },
  {
   "cell_type": "code",
   "execution_count": null,
   "id": "38786ab0",
   "metadata": {},
   "outputs": [],
   "source": [
    "# Test the data loader: check features and labels dimensions.\n",
    "data.get_dataloader(train=True)"
   ]
  },
  {
   "cell_type": "markdown",
   "id": "5297c560",
   "metadata": {},
   "source": [
    "## Training"
   ]
  },
  {
   "cell_type": "code",
   "execution_count": null,
   "id": "01b94fcc",
   "metadata": {},
   "outputs": [],
   "source": [
    "# Here you could define your own regression model. "
   ]
  },
  {
   "cell_type": "code",
   "execution_count": null,
   "id": "acfefbaa",
   "metadata": {},
   "outputs": [],
   "source": [
    "# This function is complete: if you have done everything correctly this should work without modify anything\n",
    "def your_training(trainer, data, lr=0.01):\n",
    "    # Get the training dataloader\n",
    "    train_loader = data.get_dataloader(train=True)\n",
    "\n",
    "    model = d2l.LinearRegression(lr) # Initialize the model\n",
    "    model.board.yscale='log'         # iterative loss plot\n",
    "\n",
    "    trainer.fit(model, data)         # fit model to data\n",
    "\n",
    "    return model                     # return the model"
   ]
  },
  {
   "cell_type": "code",
   "execution_count": null,
   "id": "6d9ba5a2",
   "metadata": {},
   "outputs": [],
   "source": [
    "# define the trainer (we can use the built in d2l.Trainer)\n",
    "trainer = d2l.Trainer(max_epochs=20)\n",
    "your_model = your_training(trainer, data, lr=0.01)"
   ]
  },
  {
   "cell_type": "markdown",
   "id": "0b2332d1",
   "metadata": {},
   "source": [
    "## Evaluate your model on the Test set"
   ]
  },
  {
   "cell_type": "code",
   "execution_count": null,
   "id": "31a85aed",
   "metadata": {},
   "outputs": [],
   "source": [
    "testset = # remember that \"data\" contains also the preprocessed testset\n",
    "your_predictions = your_model(torch.tensor(testset, dtype=torch.float32))\n",
    "# NOTE: we trained the model to predict  the log of the labels.\n",
    "preds_exp = 10**your_predictions.detach().numpy()"
   ]
  },
  {
   "cell_type": "markdown",
   "id": "0a071aa6",
   "metadata": {},
   "source": [
    "## Now save your predictions in a csv file"
   ]
  },
  {
   "cell_type": "markdown",
   "id": "1c576acc",
   "metadata": {},
   "source": [
    "Read carefully the format they want the predction to be and create the csv file accordingly.\n",
    "\n",
    "They want two columns, comma separated values, 'Id' and 'SalePrice'"
   ]
  },
  {
   "cell_type": "code",
   "execution_count": null,
   "id": "ed869df4",
   "metadata": {},
   "outputs": [],
   "source": [
    "submission = # Create the predictions dataset\n",
    "\n",
    "submission.to_csv('./solutions/my_submission_solution.csv', index=False)"
   ]
  },
  {
   "cell_type": "markdown",
   "id": "dd477e73",
   "metadata": {},
   "source": [
    "## Submit your predition to the Kaggle competition and see your score!"
   ]
  },
  {
   "cell_type": "markdown",
   "id": "e26cf5e1",
   "metadata": {},
   "source": []
  }
 ],
 "metadata": {
  "kernelspec": {
   "display_name": "Python 3 (ipykernel)",
   "language": "python",
   "name": "python3"
  },
  "language_info": {
   "codemirror_mode": {
    "name": "ipython",
    "version": 3
   },
   "file_extension": ".py",
   "mimetype": "text/x-python",
   "name": "python",
   "nbconvert_exporter": "python",
   "pygments_lexer": "ipython3",
   "version": "3.9.16"
  }
 },
 "nbformat": 4,
 "nbformat_minor": 5
}
