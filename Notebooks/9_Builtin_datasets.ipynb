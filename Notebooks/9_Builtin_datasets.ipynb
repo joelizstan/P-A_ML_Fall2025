{
 "cells": [
  {
   "cell_type": "markdown",
   "id": "132cedb6",
   "metadata": {},
   "source": [
    "# Torchvision Built-in datasets"
   ]
  },
  {
   "cell_type": "markdown",
   "id": "fd9e2289",
   "metadata": {},
   "source": [
    "Torchvision provides many built-in datasets in the `torchvision.datasets` module, as well as utility classes for building your own datasets."
   ]
  },
  {
   "cell_type": "markdown",
   "id": "8c13ae3b",
   "metadata": {},
   "source": [
    "All datasets are subclasses of `torch.utils.data.Dataset` i.e, they have `__getitem__` and `__len__` methods implemented. Hence, they can all be passed to a `torch.utils.data.DataLoader` which can load multiple samples in parallel using torch.multiprocessing workers. For example:"
   ]
  },
  {
   "cell_type": "code",
   "execution_count": null,
   "id": "d32d84fc",
   "metadata": {},
   "outputs": [],
   "source": [
    "import os\n",
    "import torch\n",
    "import torchvision\n",
    "import matplotlib.pyplot as plt\n"
   ]
  },
  {
   "cell_type": "markdown",
   "id": "21916182",
   "metadata": {},
   "source": [
    "## Example: MNIST"
   ]
  },
  {
   "cell_type": "code",
   "execution_count": null,
   "id": "0bdb6851",
   "metadata": {},
   "outputs": [],
   "source": [
    "data_folder = '../data/'\n",
    "dataset_name = 'MNIST'\n",
    "dataset_folder = os.path.join(data_folder, dataset_name)"
   ]
  },
  {
   "cell_type": "code",
   "execution_count": null,
   "id": "6319c911",
   "metadata": {},
   "outputs": [],
   "source": [
    "if os.path.exists(dataset_folder):\n",
    "    print(f\"Using existing dataset folder: {dataset_folder}\")\n",
    "    mnist_data = torchvision.datasets.MNIST(data_folder, \n",
    "                                            train=True,\n",
    "                                            transform=torchvision.transforms.ToTensor())\n",
    "    # NOTE:\n",
    "    # transform=torchvision.transforms.ToTensor(): Converts the PIL Image or NumPy array to a \n",
    "    # torch.FloatTensor and scales the pixel values to the range [0.0, 1.0].\n",
    "else:\n",
    "    print(f\"Dataset folder '{dataset_folder}' does not exist. Downloading dataset...\")\n",
    "    mnist_data = torchvision.datasets.MNIST(data_folder, \n",
    "                                            train=True,\n",
    "                                            transform=torchvision.transforms.ToTensor(), \n",
    "                                            download=True)"
   ]
  },
  {
   "cell_type": "code",
   "execution_count": null,
   "id": "6d65cdef",
   "metadata": {},
   "outputs": [],
   "source": [
    "print(mnist_data)"
   ]
  },
  {
   "cell_type": "code",
   "execution_count": null,
   "id": "90d75c2d",
   "metadata": {},
   "outputs": [],
   "source": [
    "# Get the first image and its label\n",
    "image, label = mnist_data[0] \n",
    "\n",
    "print(\"Image shape:\", image.shape)\n",
    "print(\"Label:\", label)"
   ]
  },
  {
   "cell_type": "code",
   "execution_count": null,
   "id": "f46ef7bb",
   "metadata": {},
   "outputs": [],
   "source": [
    "# Plotting the first 10 images in the dataset\n",
    "\n",
    "fig, ax = plt.subplots(2, 5, figsize=(12, 5))\n",
    "\n",
    "for i in range(10):\n",
    "    image, label = mnist_data[i]\n",
    "    print(f\"Image {i} - Label: {label}\")\n",
    "    ax[i // 5, i % 5].imshow(image.squeeze(), cmap='gray')\n",
    "    ax[i // 5, i % 5].set_title(f\"Label: {label}\")\n",
    "    ax[i // 5, i % 5].axis('off')\n",
    "plt.show()\n"
   ]
  },
  {
   "cell_type": "markdown",
   "id": "3e80e47a",
   "metadata": {},
   "source": [
    "# Exercises"
   ]
  },
  {
   "cell_type": "markdown",
   "id": "dc4c16e1",
   "metadata": {},
   "source": [
    "Explore the list of available datasets in `Torchvision`:\n",
    "\n",
    "https://docs.pytorch.org/vision/stable/datasets.html\n",
    "\n",
    "Choos one datased and inspect / visualize it's content:\n",
    "- How many examples?\n",
    "- What is the dimentionality of ech input example?\n",
    "- What are the lables?\n",
    "- What tipe of study can you do with this dataset?\n"
   ]
  }
 ],
 "metadata": {
  "kernelspec": {
   "display_name": "d2l",
   "language": "python",
   "name": "python3"
  },
  "language_info": {
   "codemirror_mode": {
    "name": "ipython",
    "version": 3
   },
   "file_extension": ".py",
   "mimetype": "text/x-python",
   "name": "python",
   "nbconvert_exporter": "python",
   "pygments_lexer": "ipython3",
   "version": "3.9.22"
  }
 },
 "nbformat": 4,
 "nbformat_minor": 5
}
