{
 "cells": [
  {
   "cell_type": "markdown",
   "id": "0d8b886b",
   "metadata": {},
   "source": [
    "# Getting familiar with torch.autograd"
   ]
  },
  {
   "cell_type": "markdown",
   "id": "e146f8c3",
   "metadata": {},
   "source": [
    "Neural networks (NNs) are a collection of nested functions that are executed on some input data. These functions are defined by parameters (consisting of weights and biases), which in PyTorch are stored in tensors.\n",
    "\n",
    "Training a NN happens in two steps:\n",
    "\n",
    "- Forward Propagation: In forward prop, the NN makes its best guess about the correct output. It runs the input data through each of its functions to make this guess.\n",
    "\n",
    "- Backward Propagation: In backprop, the NN adjusts its parameters proportionate to the error in its guess. It does this by traversing backwards from the output, collecting the derivatives of the error with respect to the parameters of the functions (gradients), and optimizing the parameters using gradient descent. "
   ]
  },
  {
   "cell_type": "code",
   "execution_count": 1,
   "id": "58277c64",
   "metadata": {},
   "outputs": [],
   "source": [
    "import torch"
   ]
  },
  {
   "cell_type": "markdown",
   "id": "d9a92026",
   "metadata": {},
   "source": [
    "### Vector to scalar"
   ]
  },
  {
   "cell_type": "code",
   "execution_count": 2,
   "id": "195d018e",
   "metadata": {},
   "outputs": [
    {
     "data": {
      "text/plain": [
       "tensor([0., 1., 2., 3.])"
      ]
     },
     "execution_count": 2,
     "metadata": {},
     "output_type": "execute_result"
    }
   ],
   "source": [
    "# define the x vector\n",
    "x = torch.arange(4.0)\n",
    "x"
   ]
  },
  {
   "cell_type": "code",
   "execution_count": 3,
   "id": "7aa87af0",
   "metadata": {},
   "outputs": [
    {
     "name": "stdout",
     "output_type": "stream",
     "text": [
      "None\n"
     ]
    }
   ],
   "source": [
    "# Can also create x = torch.arange(4.0, requires_grad=True)\n",
    "x.requires_grad_(True)\n",
    "print(x.grad)  # The gradient is None by default"
   ]
  },
  {
   "cell_type": "code",
   "execution_count": 4,
   "id": "8362d22f",
   "metadata": {},
   "outputs": [
    {
     "data": {
      "text/plain": [
       "tensor(28., grad_fn=<MulBackward0>)"
      ]
     },
     "execution_count": 4,
     "metadata": {},
     "output_type": "execute_result"
    }
   ],
   "source": [
    "# define the y = f(x) function returning a scalar\n",
    "y = 2 * torch.dot(x, x)\n",
    "y"
   ]
  },
  {
   "cell_type": "code",
   "execution_count": 5,
   "id": "41ec4cdf",
   "metadata": {},
   "outputs": [
    {
     "data": {
      "text/plain": [
       "tensor([ 0.,  4.,  8., 12.])"
      ]
     },
     "execution_count": 5,
     "metadata": {},
     "output_type": "execute_result"
    }
   ],
   "source": [
    "y.backward()\n",
    "x.grad"
   ]
  },
  {
   "cell_type": "code",
   "execution_count": 6,
   "id": "219d87b0",
   "metadata": {},
   "outputs": [
    {
     "data": {
      "text/plain": [
       "tensor([True, True, True, True])"
      ]
     },
     "execution_count": 6,
     "metadata": {},
     "output_type": "execute_result"
    }
   ],
   "source": [
    "x.grad == 4 * x"
   ]
  },
  {
   "cell_type": "markdown",
   "id": "3baf649a",
   "metadata": {},
   "source": [
    "### Vector to vector"
   ]
  },
  {
   "cell_type": "markdown",
   "id": "1d8e7432",
   "metadata": {},
   "source": [
    "Because y is a vector, we must pass a gradient argument to backward(). \n",
    "\n",
    "We pass $v^ᵀ$ with the same length as y and has values 1."
   ]
  },
  {
   "cell_type": "code",
   "execution_count": 7,
   "id": "8427280b",
   "metadata": {},
   "outputs": [
    {
     "name": "stdout",
     "output_type": "stream",
     "text": [
      "x: tensor([1., 2.], requires_grad=True)\n",
      "y: tensor([ 3., 12.], grad_fn=<MulBackward0>)\n",
      "x.grad: tensor([ 6., 12.])\n"
     ]
    }
   ],
   "source": [
    "x = torch.tensor([1., 2.], requires_grad=True)\n",
    "print('x:', x)\n",
    "\n",
    "y = 3 * x**2\n",
    "print('y:', y)\n",
    "\n",
    "gradient_value = [1., 1.] # here is to show how to use the gradient argument in the backward function\n",
    "# it is not necessary to use this argument, but it can be useful in some cases, to scale the gradients (see example below)\n",
    "\n",
    "y.backward(torch.tensor(gradient_value)) \n",
    "print('x.grad:', x.grad)"
   ]
  },
  {
   "cell_type": "code",
   "execution_count": 8,
   "id": "00342eaa",
   "metadata": {},
   "outputs": [
    {
     "name": "stdout",
     "output_type": "stream",
     "text": [
      "x: tensor([1., 2.], requires_grad=True)\n",
      "y: tensor([ 3., 12.], grad_fn=<MulBackward0>)\n",
      "x.grad: tensor([  6., 120.])\n"
     ]
    }
   ],
   "source": [
    "x = torch.tensor([1., 2.], requires_grad=True)\n",
    "print('x:', x)\n",
    "\n",
    "y = 3 * x**2\n",
    "print('y:', y)\n",
    "\n",
    "gradient_value = [1., 10.] # here is to show how to use the gradient argument\n",
    "y.backward(torch.tensor(gradient_value)) \n",
    "print('x.grad:', x.grad)\n"
   ]
  },
  {
   "cell_type": "markdown",
   "id": "2e8dc1b2",
   "metadata": {},
   "source": [
    "One benefit of using automatic differentiation is that even if building the computational graph of a function required passing through a maze of Python control flow (e.g., conditionals, loops, and arbitrary function calls), we can still calculate the gradient of the resulting variable."
   ]
  },
  {
   "cell_type": "code",
   "execution_count": 10,
   "id": "29fa8125",
   "metadata": {},
   "outputs": [],
   "source": [
    "def f(a): \n",
    "    b = a * 2\n",
    "    while b.norm() < 1000: \n",
    "        b = b * 2\n",
    "    if b.sum() > 0: \n",
    "        c = b\n",
    "    else:\n",
    "        c = 100 * b\n",
    "    return c"
   ]
  },
  {
   "cell_type": "code",
   "execution_count": 11,
   "id": "6af00944",
   "metadata": {},
   "outputs": [
    {
     "name": "stdout",
     "output_type": "stream",
     "text": [
      "a: tensor(-0.4315, requires_grad=True)\n",
      "a.grad: tensor(409600.)\n"
     ]
    },
    {
     "data": {
      "text/plain": [
       "tensor(True)"
      ]
     },
     "execution_count": 11,
     "metadata": {},
     "output_type": "execute_result"
    }
   ],
   "source": [
    "a = torch.randn(size=(), requires_grad=True)\n",
    "print('a:', a)\n",
    "d = f(a)\n",
    "d.backward()\n",
    "print('a.grad:', a.grad)\n",
    "# check that gradient is f(a)/a as expected dince the function is f(a) = constant * a\n",
    "a.grad == f(a)/a"
   ]
  },
  {
   "cell_type": "markdown",
   "id": "12fc1a36",
   "metadata": {},
   "source": [
    "## Exercises"
   ]
  },
  {
   "cell_type": "markdown",
   "id": "e71da275",
   "metadata": {},
   "source": [
    "### Ex 1 -- Practice with this topic, you can follow the step-by-step tutorial here\n",
    " \n",
    "[*The Gradient Argument in PyTorch’s `backward()` Function Explained by Examples*](https://zhang-yang.medium.com/the-gradient-argument-in-pytorchs-backward-function-explained-by-examples-68f266950c29)."
   ]
  },
  {
   "cell_type": "code",
   "execution_count": 12,
   "id": "220635cc",
   "metadata": {},
   "outputs": [],
   "source": [
    "import torch\n",
    "import numpy as np\n",
    "from torch import tensor\n",
    "from numpy import array"
   ]
  },
  {
   "cell_type": "markdown",
   "id": "76b03b2d",
   "metadata": {},
   "source": [
    "### Vector-Jacobian Product\n",
    "\n",
    "$$\n",
    "J^{T} \\cdot v =\n",
    "\\begin{bmatrix}\n",
    "\\frac{\\partial y_{1}}{\\partial x_{1}} & \\dots & \\frac{\\partial y_{m}}{\\partial x_{1}} \\\\\n",
    "\\vdots & \\ddots & \\vdots \\\\\n",
    "\\frac{\\partial y_{1}}{\\partial x_{n}} & \\dots & \\frac{\\partial y_{m}}{\\partial x_{n}} \\\\\n",
    "\\end{bmatrix}\n",
    "\\begin{bmatrix}\n",
    "\\frac{\\partial \\ell}{\\partial y_{1}} \\\\\n",
    "\\vdots \\\\\n",
    "\\frac{\\partial \\ell}{\\partial y_{m}} \\\\\n",
    "\\end{bmatrix}\n",
    "=\n",
    "\\begin{bmatrix}\n",
    "\\frac{\\partial \\ell}{\\partial x_{1}} \\\\\n",
    "\\vdots \\\\\n",
    "\\frac{\\partial \\ell}{\\partial x_{n}} \\\\\n",
    "\\end{bmatrix}\n",
    "$$"
   ]
  },
  {
   "cell_type": "markdown",
   "id": "e27e259a",
   "metadata": {},
   "source": [
    "#### Input = Scalar, Output = Scalar\n",
    "\n",
    "$$\n",
    "J = \\left( \\frac{\\partial y_{1}}{\\partial x_{1}} \\right) = \\left( \\frac{\\partial y}{\\partial x} \\right) = 2x\n",
    "$$"
   ]
  },
  {
   "cell_type": "code",
   "execution_count": 56,
   "id": "ac922161",
   "metadata": {},
   "outputs": [
    {
     "name": "stdout",
     "output_type": "stream",
     "text": [
      "x:  tensor(1., requires_grad=True)\n",
      "y:  tensor(1., grad_fn=<PowBackward0>)\n",
      "x.grad:  tensor(2.)\n"
     ]
    }
   ],
   "source": [
    "# Using PyTorch\n",
    "x = tensor(1., requires_grad=True)\n",
    "print('x: ', x)\n",
    "y = x ** 2\n",
    "print('y: ', y)\n",
    "y.backward()\n",
    "print('x.grad: ', x.grad)"
   ]
  },
  {
   "cell_type": "code",
   "execution_count": 57,
   "id": "3396d8fc",
   "metadata": {},
   "outputs": [
    {
     "name": "stdout",
     "output_type": "stream",
     "text": [
      "J:  [[2.]]\n",
      "v_T:  [[1.]]\n",
      "v_T dot J:  [[2.]]\n"
     ]
    }
   ],
   "source": [
    "# Using NumPy\n",
    "x = x.detach().numpy()\n",
    "J = array([[2*x]])\n",
    "print('J: ', J)\n",
    "\n",
    "v_T = array([[1.]])\n",
    "print('v_T: ', v_T)\n",
    "print('v_T dot J: ', v_T@J)"
   ]
  },
  {
   "cell_type": "code",
   "execution_count": 58,
   "id": "5d3b1f8a",
   "metadata": {},
   "outputs": [
    {
     "name": "stdout",
     "output_type": "stream",
     "text": [
      "x:  tensor(1., requires_grad=True)\n",
      "y:  tensor(1., grad_fn=<PowBackward0>)\n",
      "x.grad:  tensor(200.)\n"
     ]
    }
   ],
   "source": [
    "# Non-default gradient using PyTorch\n",
    "x = tensor(1., requires_grad=True)\n",
    "print('x: ', x) \n",
    "y = x ** 2\n",
    "print('y: ', y)\n",
    "gradient_value = 100.\n",
    "y.backward(tensor(gradient_value))\n",
    "print('x.grad: ', x.grad)"
   ]
  },
  {
   "cell_type": "code",
   "execution_count": 59,
   "id": "00d37445",
   "metadata": {},
   "outputs": [
    {
     "name": "stdout",
     "output_type": "stream",
     "text": [
      "J:  [[2.]]\n",
      "v_T:  [[100.]]\n",
      "v_T dot J:  [[200.]]\n"
     ]
    }
   ],
   "source": [
    "# Non-default gradient using NumPy\n",
    "x = x.detach().numpy()\n",
    "J = array([[2*x]])\n",
    "print('J: ', J)\n",
    "v_T = array([[gradient_value]])\n",
    "print('v_T: ', v_T)\n",
    "print('v_T dot J: ', v_T@J)"
   ]
  },
  {
   "cell_type": "code",
   "execution_count": 82,
   "id": "a275e081",
   "metadata": {},
   "outputs": [
    {
     "name": "stdout",
     "output_type": "stream",
     "text": [
      "x:  tensor(1., requires_grad=True)\n",
      "y:  tensor([1., 1., 1., 1.], grad_fn=<StackBackward0>)\n",
      "x.grad:  tensor(2222.)\n"
     ]
    }
   ],
   "source": [
    "# Gradient is vector using PyTorch\n",
    "x = tensor(1., requires_grad=True)\n",
    "print('x: ', x)\n",
    "y = torch.stack([x ** 2, x ** 2, x ** 2, x ** 2])\n",
    "print('y: ', y)\n",
    "gradient_value = tensor([1., 10., 100., 1000.])\n",
    "y.backward(gradient_value)\n",
    "print('x.grad: ', x.grad)"
   ]
  },
  {
   "cell_type": "code",
   "execution_count": 83,
   "id": "fe1b31e8",
   "metadata": {},
   "outputs": [
    {
     "name": "stdout",
     "output_type": "stream",
     "text": [
      "x.grad:  tensor(2.)\n",
      "x.grad:  tensor(22.)\n",
      "x.grad:  tensor(222.)\n",
      "x.grad:  tensor(2222.)\n"
     ]
    }
   ],
   "source": [
    "# Backwards accumulation\n",
    "x = tensor(1., requires_grad=True)\n",
    "y = x ** 2\n",
    "gradient_value = [1., 10., 100., 1000.]\n",
    "\n",
    "for v in gradient_value:\n",
    "    y.backward(tensor(v), retain_graph=True)\n",
    "    print('x.grad: ', x.grad)"
   ]
  },
  {
   "cell_type": "code",
   "execution_count": 84,
   "id": "60d51b23",
   "metadata": {},
   "outputs": [
    {
     "name": "stdout",
     "output_type": "stream",
     "text": [
      "J:  [[2.]]\n",
      "J_broadcast: \n",
      "[[2.]\n",
      " [2.]\n",
      " [2.]\n",
      " [2.]]\n",
      "v_T:  [   1.   10.  100. 1000.]\n",
      "v_T dot J_broadcast:  [2222.]\n"
     ]
    }
   ],
   "source": [
    "# Gradient is vector using NumPy\n",
    "x = x.detach().numpy()\n",
    "J = array([[2*x]])\n",
    "print('J: ', J)\n",
    "J_broadcast = np.repeat(J, len(gradient_value), axis=0)\n",
    "print('J_broadcast: ')\n",
    "print(J_broadcast)\n",
    "\n",
    "v_T = array(gradient_value)\n",
    "print('v_T: ', v_T)\n",
    "print('v_T dot J_broadcast: ', v_T@J_broadcast)"
   ]
  },
  {
   "cell_type": "markdown",
   "id": "06dcc5b3",
   "metadata": {},
   "source": [
    "#### Input = Vector, Output = Scalar\n",
    "\n",
    "$$\n",
    "J =  \n",
    "\\left(\n",
    "\\frac{\\partial y_{1}}{\\partial x_{1}} , \\frac{\\partial y_{1}}{\\partial x_{2}}\n",
    "\\right)\n",
    "=\n",
    "\\left(\n",
    "1 , 1\n",
    "\\right)\n",
    "$$"
   ]
  },
  {
   "cell_type": "code",
   "execution_count": 21,
   "id": "d3004edb",
   "metadata": {},
   "outputs": [
    {
     "name": "stdout",
     "output_type": "stream",
     "text": [
      "x:  tensor([1., 2.], requires_grad=True)\n",
      "y:  tensor(3., grad_fn=<AddBackward0>)\n",
      "x.grad:  tensor([1., 1.])\n"
     ]
    }
   ],
   "source": [
    "# Using PyTorch\n",
    "x = tensor([1., 2.], requires_grad=True)\n",
    "print('x: ', x)\n",
    "y = sum(x)\n",
    "print('y: ', y)\n",
    "y.backward()\n",
    "print('x.grad: ', x.grad)"
   ]
  },
  {
   "cell_type": "code",
   "execution_count": 24,
   "id": "465b2a2c",
   "metadata": {},
   "outputs": [
    {
     "name": "stdout",
     "output_type": "stream",
     "text": [
      "J:\n",
      "[[1 1]]\n",
      "v_T:  [[1]]\n",
      "v_T dot J:  [[1 1]]\n"
     ]
    }
   ],
   "source": [
    "# Using NumPy\n",
    "J = array([[1, 1]])\n",
    "print('J:')\n",
    "print(J)\n",
    "\n",
    "v_T = array([[1]])\n",
    "print('v_T: ', v_T)\n",
    "print('v_T dot J: ', v_T@J)"
   ]
  },
  {
   "cell_type": "code",
   "execution_count": 25,
   "id": "2b0bc792",
   "metadata": {},
   "outputs": [
    {
     "name": "stdout",
     "output_type": "stream",
     "text": [
      "x:  tensor([1., 2.], requires_grad=True)\n",
      "x.grad:  tensor([100., 100.])\n"
     ]
    }
   ],
   "source": [
    "# Non-default gradient using PyTorch\n",
    "x = tensor([1., 2.], requires_grad=True)\n",
    "print('x: ', x)\n",
    "y = sum(x)\n",
    "gradient_value = 100.\n",
    "y.backward(tensor(gradient_value))\n",
    "print('x.grad: ', x.grad)"
   ]
  },
  {
   "cell_type": "code",
   "execution_count": 26,
   "id": "086341fa",
   "metadata": {},
   "outputs": [
    {
     "name": "stdout",
     "output_type": "stream",
     "text": [
      "J:\n",
      "[[1 1]]\n",
      "v_T:  [[100.]]\n",
      "v_T dot J:  [[100. 100.]]\n"
     ]
    }
   ],
   "source": [
    "# Non-default gradient using NumPy\n",
    "J = array([[1, 1]])\n",
    "print('J:')\n",
    "print(J)\n",
    "\n",
    "v_T = array([[gradient_value]])\n",
    "print('v_T: ', v_T)\n",
    "print('v_T dot J: ', v_T@J)"
   ]
  },
  {
   "cell_type": "code",
   "execution_count": 89,
   "id": "a654c1d8",
   "metadata": {},
   "outputs": [
    {
     "name": "stdout",
     "output_type": "stream",
     "text": [
      "x:  tensor([1., 2.], requires_grad=True)\n",
      "y:  tensor([3., 3., 3., 3.], grad_fn=<StackBackward0>)\n",
      "x.grad:  tensor([1111., 1111.])\n"
     ]
    }
   ],
   "source": [
    "# Gradient is vector using PyTorch\n",
    "x = tensor([1., 2.], requires_grad=True)\n",
    "print('x: ', x)\n",
    "y = torch.stack([x.sum(), x.sum(), x.sum(), x.sum()])\n",
    "print('y: ', y)\n",
    "gradient_value = [1., 10., 100., 1000.]\n",
    "y.backward(tensor(gradient_value))\n",
    "print('x.grad: ', x.grad)"
   ]
  },
  {
   "cell_type": "code",
   "execution_count": 90,
   "id": "d219f55b",
   "metadata": {},
   "outputs": [
    {
     "name": "stdout",
     "output_type": "stream",
     "text": [
      "x.grad:  tensor([1., 1.])\n",
      "x.grad:  tensor([11., 11.])\n",
      "x.grad:  tensor([111., 111.])\n",
      "x.grad:  tensor([1111., 1111.])\n"
     ]
    }
   ],
   "source": [
    "# Backwards accumulation\n",
    "x = tensor([1., 2.], requires_grad=True)\n",
    "y = sum(x)\n",
    "gradient_value = [1., 10., 100., 1000.]\n",
    "for v in gradient_value:\n",
    "    y.backward(tensor(v), retain_graph=True)\n",
    "    print('x.grad: ', x.grad)"
   ]
  },
  {
   "cell_type": "code",
   "execution_count": 91,
   "id": "d505bdb6",
   "metadata": {},
   "outputs": [
    {
     "name": "stdout",
     "output_type": "stream",
     "text": [
      "J:  [[1 1]]\n",
      "J_broadcast: \n",
      "[[1 1]\n",
      " [1 1]\n",
      " [1 1]\n",
      " [1 1]]\n",
      "v_T:  [   1.   10.  100. 1000.]\n",
      "v_T dot J_broadcast:  [1111. 1111.]\n"
     ]
    }
   ],
   "source": [
    "# Gradient is vector using NumPy\n",
    "x = x.detach().numpy()\n",
    "J = array([[1, 1]])\n",
    "print('J: ', J)\n",
    "J_broadcast = np.repeat(J, len(gradient_value), axis=0)\n",
    "print('J_broadcast: ')\n",
    "print(J_broadcast)\n",
    "\n",
    "v_T = array(gradient_value)\n",
    "print('v_T: ', v_T)\n",
    "print('v_T dot J_broadcast: ', v_T@J_broadcast)"
   ]
  },
  {
   "cell_type": "markdown",
   "id": "46b9d1ca",
   "metadata": {},
   "source": [
    "#### Input = Vector, Output = Vector\n",
    "\n",
    "$$\n",
    "J =\n",
    "\\begin{bmatrix}\n",
    "\\frac{\\partial y_{1}}{\\partial x_{1}} & \\frac{\\partial y_{1}}{\\partial x_{2}} \\\\\n",
    "\\frac{\\partial y_{2}}{\\partial x_{1}} & \\frac{\\partial y_{2}}{\\partial x_{2}} \\\\\n",
    "\\end{bmatrix}\n",
    "=\n",
    "\\begin{bmatrix}\n",
    "6x_{1} & 0 \\\\\n",
    "0 & 6x_{2} \\\\\n",
    "\\end{bmatrix}\n",
    "$$"
   ]
  },
  {
   "cell_type": "code",
   "execution_count": 32,
   "id": "9050787c",
   "metadata": {},
   "outputs": [
    {
     "name": "stdout",
     "output_type": "stream",
     "text": [
      "x:  tensor([1., 2.], requires_grad=True)\n",
      "y:  tensor([ 3., 12.], grad_fn=<MulBackward0>)\n",
      "x.grad:  tensor([ 6., 12.])\n"
     ]
    }
   ],
   "source": [
    "# Using PyTorch\n",
    "x = tensor([1., 2.], requires_grad=True)\n",
    "print('x: ', x)\n",
    "y = 3 * x ** 2\n",
    "print('y: ', y)\n",
    "gradient_value = [1., 1.]\n",
    "y.backward(tensor(gradient_value))\n",
    "print('x.grad: ', x.grad)"
   ]
  },
  {
   "cell_type": "code",
   "execution_count": 33,
   "id": "f6a457fc",
   "metadata": {},
   "outputs": [
    {
     "name": "stdout",
     "output_type": "stream",
     "text": [
      "J:\n",
      "[[ 6.  0.]\n",
      " [ 0. 12.]]\n",
      "v_T:  [[1. 1.]]\n",
      "v_T dot J:  [[ 6. 12.]]\n"
     ]
    }
   ],
   "source": [
    "# Using NumPy\n",
    "x = x.detach().numpy()\n",
    "J = array([[6*x[0], 0], [0, 6*x[1]]])\n",
    "print('J:')\n",
    "print(J)\n",
    "\n",
    "v_T = array([gradient_value])\n",
    "print('v_T: ', v_T)\n",
    "print('v_T dot J: ', v_T@J)"
   ]
  },
  {
   "cell_type": "code",
   "execution_count": 34,
   "id": "54832fb1",
   "metadata": {},
   "outputs": [
    {
     "name": "stdout",
     "output_type": "stream",
     "text": [
      "x:  tensor([1., 2.], requires_grad=True)\n",
      "y:  tensor([ 3., 12.], grad_fn=<MulBackward0>)\n",
      "x.grad:  tensor([  6., 120.])\n"
     ]
    }
   ],
   "source": [
    "# Non-one gradient using PyTorch\n",
    "x = tensor([1., 2.], requires_grad=True)\n",
    "print('x: ', x)\n",
    "y = 3 * x ** 2\n",
    "print('y: ', y)\n",
    "gradient_value = [1., 10.]\n",
    "y.backward(tensor(gradient_value))\n",
    "print('x.grad: ', x.grad)"
   ]
  },
  {
   "cell_type": "code",
   "execution_count": 35,
   "id": "7c322f22",
   "metadata": {},
   "outputs": [
    {
     "name": "stdout",
     "output_type": "stream",
     "text": [
      "J:\n",
      "[[ 6.  0.]\n",
      " [ 0. 12.]]\n",
      "v_T:  [[ 1. 10.]]\n",
      "v_T dot J:  [[  6. 120.]]\n"
     ]
    }
   ],
   "source": [
    "# Non-one gradient using NumPy\n",
    "x = x.detach().numpy()\n",
    "J = array([[6*x[0], 0], [0, 6*x[1]]])\n",
    "print('J:')\n",
    "print(J)\n",
    "\n",
    "v_T = array([gradient_value])\n",
    "print('v_T: ', v_T)\n",
    "print('v_T dot J: ', v_T@J)"
   ]
  },
  {
   "cell_type": "markdown",
   "id": "b81dc3b0",
   "metadata": {},
   "source": [
    "#### Input = Vector, Output = Vector Full Example\n",
    "\n",
    "$$\n",
    "x =\n",
    "\\left(\n",
    "x_{1} , x_{2} \n",
    "\\right)\n",
    "=\n",
    "\\left(\n",
    "1 , 2 \n",
    "\\right)\n",
    "$$\n",
    "\n",
    "$$\n",
    "y =\n",
    "\\left(\n",
    "3x_{1}^{2} , x_{1}^{2} + 2x_{2}^{3} , 10x_{2} \\\\\n",
    "\\right)\n",
    "$$\n",
    "\n",
    "$$\n",
    "y = \n",
    "\\left(\n",
    "y_{1} = 3x_{1}^{2} , y_{2} = x_{1}^{2} + 2x_{2}^{3} , y_{3} = 10x_{2}\n",
    "\\right)\n",
    "$$\n",
    "\n",
    "$$\n",
    "J =\n",
    "\\begin{bmatrix}\n",
    "\\frac{\\partial y_{1}}{\\partial x_{1}} & \\frac{\\partial y_{1}}{\\partial x_{2}} \\\\\n",
    "\\frac{\\partial y_{2}}{\\partial x_{1}} & \\frac{\\partial y_{2}}{\\partial x_{2}} \\\\\n",
    "\\frac{\\partial y_{3}}{\\partial x_{1}} & \\frac{\\partial y_{3}}{\\partial x_{2}} \\\\\n",
    "\\end{bmatrix}\n",
    "=\n",
    "\\begin{bmatrix}\n",
    "6x_{1} & 0 \\\\\n",
    "2x_{1} & 6x_{2}^{2} \\\\\n",
    "0 & 10 \\\\\n",
    "\\end{bmatrix}\n",
    "$$"
   ]
  },
  {
   "cell_type": "code",
   "execution_count": 39,
   "id": "ca093ef3",
   "metadata": {},
   "outputs": [
    {
     "name": "stdout",
     "output_type": "stream",
     "text": [
      "x:  tensor([1., 2.], requires_grad=True)\n",
      "y:  tensor([ 3., 17., 20.], grad_fn=<CopySlices>)\n",
      "x.grad:  tensor([  26., 1240.])\n"
     ]
    }
   ],
   "source": [
    "# Using PyTorch\n",
    "x = tensor([1., 2.], requires_grad=True)\n",
    "print('x: ', x)\n",
    "y = torch.empty(3)\n",
    "y[0] = 3 * x[0] ** 2\n",
    "y[1] = x[0] ** 2 + 2 * x[1] ** 3\n",
    "y[2] = 10 * x[1]\n",
    "print('y: ', y)\n",
    "gradient_value = [1., 10., 100.]\n",
    "y.backward(tensor(gradient_value))\n",
    "print('x.grad: ', x.grad)"
   ]
  },
  {
   "cell_type": "code",
   "execution_count": 40,
   "id": "f7a8dcce",
   "metadata": {},
   "outputs": [
    {
     "name": "stdout",
     "output_type": "stream",
     "text": [
      "J:\n",
      "[[ 6.  0.]\n",
      " [ 2. 24.]\n",
      " [ 0. 10.]]\n",
      "v_T:  [[  1.  10. 100.]]\n",
      "v_T dot J:  [[  26. 1240.]]\n"
     ]
    }
   ],
   "source": [
    "# Using NumPy\n",
    "x = x.detach().numpy()\n",
    "J = array([[6*x[0], 0], \n",
    "           [2*x[0], 6*x[1]**2], \n",
    "           [0, 10]])\n",
    "print('J:')\n",
    "print(J)\n",
    "\n",
    "v_T = array([gradient_value])\n",
    "print('v_T: ', v_T)\n",
    "print('v_T dot J: ', v_T@J)"
   ]
  },
  {
   "cell_type": "markdown",
   "id": "90fe8802",
   "metadata": {},
   "source": [
    "### Ex 2 -- Let 𝑓 (𝑥) = sin(𝑥). Plot the graph of 𝑓 and of its derivative 𝑓 ′. Do not exploit the fact that 𝑓 ′ (𝑥) = cos(𝑥) but rather use automatic differentiation to get the result."
   ]
  },
  {
   "cell_type": "code",
   "execution_count": null,
   "id": "5f35b66f",
   "metadata": {},
   "outputs": [],
   "source": []
  },
  {
   "cell_type": "markdown",
   "id": "bf3a762e",
   "metadata": {},
   "source": [
    "### Ex 5 -- Let 𝑓 (𝑥) = ((log $x^2$) · sin 𝑥) + $𝑥^{−1}$. "
   ]
  },
  {
   "cell_type": "markdown",
   "id": "1efa2fb3",
   "metadata": {},
   "source": [
    "Write out a dependency graph tracing results from 𝑥 to 𝑓 (𝑥):\n",
    "We'll identify intermediate steps starting from x and building up to f(x)\n",
    "\n",
    "- Start from: x\n",
    "\n",
    "- Intermediate computations:\n",
    "    - $x^2$ \n",
    "        - log($x^2$)\n",
    "    - sin(x) \n",
    "        - log($x^2$) * sin(x)\n",
    "    - 1/x\n",
    "        - log($x^2$) * sin(x) + 1/x\n",
    "\n",
    "Now use the chain rule to comput the analytical derivative of thea function; also comppute the gradient using autigrad and compare the two solutions by plotting them and see if they overlap."
   ]
  },
  {
   "cell_type": "code",
   "execution_count": null,
   "id": "57efb581",
   "metadata": {},
   "outputs": [],
   "source": [
    "\n",
    "\n"
   ]
  },
  {
   "cell_type": "markdown",
   "id": "d8fe37a4",
   "metadata": {},
   "source": []
  }
 ],
 "metadata": {
  "kernelspec": {
   "display_name": "d2l",
   "language": "python",
   "name": "python3"
  },
  "language_info": {
   "codemirror_mode": {
    "name": "ipython",
    "version": 3
   },
   "file_extension": ".py",
   "mimetype": "text/x-python",
   "name": "python",
   "nbconvert_exporter": "python",
   "pygments_lexer": "ipython3",
   "version": "3.9.23"
  }
 },
 "nbformat": 4,
 "nbformat_minor": 5
}
