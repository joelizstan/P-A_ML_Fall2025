{
 "cells": [
  {
   "cell_type": "markdown",
   "id": "1f1d3c2c",
   "metadata": {},
   "source": [
    "# Introduction to _PyTorch_ "
   ]
  },
  {
   "cell_type": "markdown",
   "id": "905b570e",
   "metadata": {
    "vscode": {
     "languageId": "markdown"
    }
   },
   "source": [
    "_*PyTorch*_ is an open-source deep learning framework developed by Facebook's AI Research lab. It provides a flexible and efficient platform for building and training neural networks, supporting dynamic computation graphs and GPU acceleration. PyTorch is widely used in both academia and industry for research and production due to its intuitive interface and strong community support.\n",
    "\n",
    "For more details, visit the [official PyTorch documentation](https://pytorch.org/docs/stable/index.html)."
   ]
  },
  {
   "cell_type": "code",
   "execution_count": 1,
   "id": "4390e407",
   "metadata": {},
   "outputs": [],
   "source": [
    "import torch"
   ]
  },
  {
   "cell_type": "markdown",
   "id": "299d1272",
   "metadata": {},
   "source": [
    "## Tensors"
   ]
  },
  {
   "cell_type": "markdown",
   "id": "4cb782d0",
   "metadata": {},
   "source": [
    "In machine learning we will deal with tensors a lot. As a reminder 1-d tensor is a vector (called array in programming jargon); a 2-d tensor is a matrix; if dimentions are k>2 we talk about $k^{th}$-order tensors."
   ]
  },
  {
   "cell_type": "code",
   "execution_count": 2,
   "id": "d7b3c6a2",
   "metadata": {},
   "outputs": [
    {
     "name": "stdout",
     "output_type": "stream",
     "text": [
      "printing the x vector: tensor([ 0.,  1.,  2.,  3.,  4.,  5.,  6.,  7.,  8.,  9., 10., 11.])\n"
     ]
    },
    {
     "data": {
      "text/plain": [
       "tensor([ 0.,  1.,  2.,  3.,  4.,  5.,  6.,  7.,  8.,  9., 10., 11.])"
      ]
     },
     "execution_count": 2,
     "metadata": {},
     "output_type": "execute_result"
    }
   ],
   "source": [
    "x = torch.arange(12, dtype=torch.float32)\n",
    "print('printing the x vector:', x) \n",
    "# note that in jupyter notebooks, the output of the last line is automatically displayed even without a print statement:\n",
    "x"
   ]
  },
  {
   "cell_type": "markdown",
   "id": "85c20730",
   "metadata": {},
   "source": [
    "### Counting elements, shape and reshape"
   ]
  },
  {
   "cell_type": "markdown",
   "id": "64b9a035",
   "metadata": {},
   "source": [
    "`numel()` returns the total number of elements in the tensor x, regardless of its shape or dimensions."
   ]
  },
  {
   "cell_type": "code",
   "execution_count": 3,
   "id": "435c36fd",
   "metadata": {},
   "outputs": [
    {
     "data": {
      "text/plain": [
       "12"
      ]
     },
     "execution_count": 3,
     "metadata": {},
     "output_type": "execute_result"
    }
   ],
   "source": [
    "x.numel() "
   ]
  },
  {
   "cell_type": "markdown",
   "id": "7454660f",
   "metadata": {},
   "source": [
    "The attribute `x.shape` returns the dimensions (size of each axis) of the tensor x. "
   ]
  },
  {
   "cell_type": "code",
   "execution_count": 4,
   "id": "0bf8a9d1",
   "metadata": {},
   "outputs": [
    {
     "data": {
      "text/plain": [
       "torch.Size([12])"
      ]
     },
     "execution_count": 4,
     "metadata": {},
     "output_type": "execute_result"
    }
   ],
   "source": [
    "x.shape "
   ]
  },
  {
   "cell_type": "markdown",
   "id": "c01c7148",
   "metadata": {},
   "source": [
    "`x.reshape()` is used to change the shape of the tensor x without changing its data, as long as the total number of elements remains the same."
   ]
  },
  {
   "cell_type": "code",
   "execution_count": 5,
   "id": "0eb650be",
   "metadata": {},
   "outputs": [
    {
     "data": {
      "text/plain": [
       "tensor([[ 0.,  1.,  2.,  3.],\n",
       "        [ 4.,  5.,  6.,  7.],\n",
       "        [ 8.,  9., 10., 11.]])"
      ]
     },
     "execution_count": 5,
     "metadata": {},
     "output_type": "execute_result"
    }
   ],
   "source": [
    "x.reshape(3, 4) # Reshape to 3 rows and 4 columns"
   ]
  },
  {
   "cell_type": "code",
   "execution_count": 6,
   "id": "9e3368c4",
   "metadata": {},
   "outputs": [
    {
     "name": "stdout",
     "output_type": "stream",
     "text": [
      "torch.Size([12])\n",
      "torch.Size([3, 4])\n"
     ]
    }
   ],
   "source": [
    "print(x.shape) #note that this does not change the original tensor! you need to assign it to a new variable or overwrite the original one\n",
    "\n",
    "X = x.reshape(3, 4) # Now x is reshaped\n",
    "\n",
    "print(X.shape)"
   ]
  },
  {
   "cell_type": "markdown",
   "id": "a7a93f25",
   "metadata": {},
   "source": [
    "### zeros-, ones- and randn-tensors"
   ]
  },
  {
   "cell_type": "markdown",
   "id": "5cf485ec",
   "metadata": {},
   "source": [
    "`torch.zeros()` creates a tensor filled with zeros, of a specified shape and data type."
   ]
  },
  {
   "cell_type": "code",
   "execution_count": 7,
   "id": "abecf51b",
   "metadata": {},
   "outputs": [
    {
     "data": {
      "text/plain": [
       "tensor([[[0., 0., 0., 0.],\n",
       "         [0., 0., 0., 0.],\n",
       "         [0., 0., 0., 0.]],\n",
       "\n",
       "        [[0., 0., 0., 0.],\n",
       "         [0., 0., 0., 0.],\n",
       "         [0., 0., 0., 0.]]])"
      ]
     },
     "execution_count": 7,
     "metadata": {},
     "output_type": "execute_result"
    }
   ],
   "source": [
    "torch.zeros((2, 3, 4)) # this creates a 3-d tensor of shape (2, 3, 4) filled with zeros\n"
   ]
  },
  {
   "cell_type": "markdown",
   "id": "dc5023b5",
   "metadata": {},
   "source": [
    "`torch.ones()` creates a tensor filled with ones, with the specified shape, and data type."
   ]
  },
  {
   "cell_type": "code",
   "execution_count": 8,
   "id": "3b1d57bb",
   "metadata": {},
   "outputs": [
    {
     "data": {
      "text/plain": [
       "tensor([[[1., 1., 1., 1.],\n",
       "         [1., 1., 1., 1.],\n",
       "         [1., 1., 1., 1.]],\n",
       "\n",
       "        [[1., 1., 1., 1.],\n",
       "         [1., 1., 1., 1.],\n",
       "         [1., 1., 1., 1.]]])"
      ]
     },
     "execution_count": 8,
     "metadata": {},
     "output_type": "execute_result"
    }
   ],
   "source": [
    "torch.ones((2, 3, 4)) # this creates a 3rd order tensor of shape (2, 3, 4) filled with ones\n",
    "\n",
    "# Note: this is an example of how an RGB image can be represented as a 3rd order tensor: (channels, width, height)\n",
    "# In CNN, the input images are typically represented as 4th order tensors: (batch_size, channels, width, height)"
   ]
  },
  {
   "cell_type": "markdown",
   "id": "3531293a",
   "metadata": {},
   "source": [
    "`torch.randn()` creates a tensor filled with random numbers drawn from a standard normal distribution."
   ]
  },
  {
   "cell_type": "code",
   "execution_count": 9,
   "id": "36a41c89",
   "metadata": {},
   "outputs": [
    {
     "data": {
      "text/plain": [
       "tensor([[ 0.6515,  0.7084,  0.0599, -0.1586],\n",
       "        [-1.6629, -0.0489,  0.1859, -1.1099],\n",
       "        [ 1.3829, -0.6907, -0.4179,  0.6436]])"
      ]
     },
     "execution_count": 9,
     "metadata": {},
     "output_type": "execute_result"
    }
   ],
   "source": [
    "torch.randn(3, 4) # this creates a 2nd order tensor (matrix) of shape (3, 4) filled with random numbers from a normal distribution with mean 0 and variance 1"
   ]
  },
  {
   "cell_type": "markdown",
   "id": "1dae8ff0",
   "metadata": {},
   "source": [
    "`torch.tensor()` creates a tensor directly from a Python list, tuple, or NumPy array."
   ]
  },
  {
   "cell_type": "code",
   "execution_count": 10,
   "id": "51b7ea37",
   "metadata": {},
   "outputs": [
    {
     "data": {
      "text/plain": [
       "torch.Size([3, 4])"
      ]
     },
     "execution_count": 10,
     "metadata": {},
     "output_type": "execute_result"
    }
   ],
   "source": [
    "torch.tensor([[2, 1, 4, 3], \n",
    "              [1, 2, 3, 4], \n",
    "              [4, 3, 2, 1]]).shape # Create a 2nd order tensor (matrix) with specific values"
   ]
  },
  {
   "cell_type": "markdown",
   "id": "0421b615",
   "metadata": {},
   "source": [
    "### Indexing and Slicing\n",
    "Indexing and slicing in PyTorch work similarly to NumPy, allowing you to extract, modify, or rearrange parts of a tensor."
   ]
  },
  {
   "cell_type": "code",
   "execution_count": 11,
   "id": "1b1c19d6",
   "metadata": {},
   "outputs": [
    {
     "data": {
      "text/plain": [
       "tensor([[ 0.,  1.,  2.,  3.],\n",
       "        [ 4.,  5.,  6.,  7.],\n",
       "        [ 8.,  9., 10., 11.]])"
      ]
     },
     "execution_count": 11,
     "metadata": {},
     "output_type": "execute_result"
    }
   ],
   "source": [
    "X #we defined X above, so this will show the reshaped tensor"
   ]
  },
  {
   "cell_type": "code",
   "execution_count": 12,
   "id": "afac8583",
   "metadata": {},
   "outputs": [
    {
     "data": {
      "text/plain": [
       "tensor([0., 1., 2., 3.])"
      ]
     },
     "execution_count": 12,
     "metadata": {},
     "output_type": "execute_result"
    }
   ],
   "source": [
    "X[0] # Access the first row of the tensor"
   ]
  },
  {
   "cell_type": "code",
   "execution_count": 13,
   "id": "05e7fc53",
   "metadata": {},
   "outputs": [
    {
     "data": {
      "text/plain": [
       "tensor([ 8.,  9., 10., 11.])"
      ]
     },
     "execution_count": 13,
     "metadata": {},
     "output_type": "execute_result"
    }
   ],
   "source": [
    "X[-1] # Access the last row of the tensor\n"
   ]
  },
  {
   "cell_type": "code",
   "execution_count": 14,
   "id": "4174e7c9",
   "metadata": {},
   "outputs": [
    {
     "data": {
      "text/plain": [
       "tensor([[0., 1., 2., 3.],\n",
       "        [4., 5., 6., 7.]])"
      ]
     },
     "execution_count": 14,
     "metadata": {},
     "output_type": "execute_result"
    }
   ],
   "source": [
    "X[0:2] # Access rows 1 and 2 of the tensor. Note that index 3 is not included!"
   ]
  },
  {
   "cell_type": "code",
   "execution_count": 15,
   "id": "f9232967",
   "metadata": {},
   "outputs": [
    {
     "data": {
      "text/plain": [
       "tensor([[ 0., 17.,  2.,  3.],\n",
       "        [ 4.,  5.,  6.,  7.],\n",
       "        [ 8.,  9., 10., 11.]])"
      ]
     },
     "execution_count": 15,
     "metadata": {},
     "output_type": "execute_result"
    }
   ],
   "source": [
    "X[0, 1] = 17 # Change the value at row 1, column 2 to 17\n",
    "X"
   ]
  },
  {
   "cell_type": "markdown",
   "id": "f791d706",
   "metadata": {},
   "source": [
    "-------------------- *YOUR TURN*!!! ----------------\n",
    "\n",
    "Now try to overwrite all values in the first 2 rows of the vector to 0:"
   ]
  },
  {
   "cell_type": "code",
   "execution_count": 16,
   "id": "c87e3bb8",
   "metadata": {},
   "outputs": [
    {
     "data": {
      "text/plain": [
       "tensor([[ 0.,  0.,  0.,  0.],\n",
       "        [ 0.,  0.,  0.,  0.],\n",
       "        [ 8.,  9., 10., 11.]])"
      ]
     },
     "execution_count": 16,
     "metadata": {},
     "output_type": "execute_result"
    }
   ],
   "source": [
    "# Write your own code to overwrite all values in the first 2 rows of the matrix to 0\n",
    "X[0:2, :] = 0  # Overwrite all values in the first 2 rows to 0\n",
    "X"
   ]
  },
  {
   "cell_type": "markdown",
   "id": "eaa7ab71",
   "metadata": {},
   "source": [
    "### Operation between tensors"
   ]
  },
  {
   "cell_type": "markdown",
   "id": "6c755c89",
   "metadata": {},
   "source": [
    "Element-wise operations \n",
    "1) thourgh unitary scalar operations \n",
    "2) through binary scalar operations \n",
    "3) through broadcasting"
   ]
  },
  {
   "cell_type": "code",
   "execution_count": null,
   "id": "66bb00a7",
   "metadata": {},
   "outputs": [
    {
     "data": {
      "text/plain": [
       "tensor([1.0000e+00, 1.0000e+00, 1.0000e+00, 1.0000e+00, 1.0000e+00, 1.0000e+00,\n",
       "        1.0000e+00, 1.0000e+00, 2.9810e+03, 8.1031e+03, 2.2026e+04, 5.9874e+04])"
      ]
     },
     "execution_count": 17,
     "metadata": {},
     "output_type": "execute_result"
    }
   ],
   "source": [
    "torch.exp(x) # Takes each value in the tensor x and returns e raised to that value"
   ]
  },
  {
   "cell_type": "markdown",
   "id": "106c3102",
   "metadata": {},
   "source": [
    "-------------------- *YOUR TURN*!!! ----------------\n",
    "\n",
    "Generate 2 arrays, x and y, on length 5 (aka 5 number of elements each); then try the following operations:\n",
    "x + y, x - y, x * y, x / y, x ** y"
   ]
  },
  {
   "cell_type": "code",
   "execution_count": 18,
   "id": "526e2aef",
   "metadata": {},
   "outputs": [
    {
     "name": "stdout",
     "output_type": "stream",
     "text": [
      "tensor([0., 1., 2., 3., 4.])\n",
      "tensor([0., 1., 2., 3., 4.])\n",
      "tensor([0., 2., 4., 6., 8.])\n",
      "tensor([0., 0., 0., 0., 0.])\n",
      "tensor([ 0.,  1.,  4.,  9., 16.])\n",
      "tensor([nan, 1., 1., 1., 1.])\n",
      "tensor([  1.,   1.,   4.,  27., 256.])\n"
     ]
    }
   ],
   "source": [
    "# write your own code here\n",
    "x = torch.arange(5, dtype=torch.float32)\n",
    "print(x)\n",
    "y = torch.arange(5, dtype=torch.float32)\n",
    "print(y)\n",
    "print(x + y) # Element-wise addition of two tensors\n",
    "print(x - y) # Element-wise subtraction of two tensors\n",
    "print(x * y) # Element-wise multiplication of two tensors\n",
    "print(x / y) # Element-wise division of two tensors\n",
    "print(x ** y) # Element-wise exponentiation of two tensors"
   ]
  },
  {
   "cell_type": "markdown",
   "id": "b220f1d1",
   "metadata": {},
   "source": [
    "### Broadcasting"
   ]
  },
  {
   "cell_type": "markdown",
   "id": "d3bedcd0",
   "metadata": {},
   "source": [
    "Under certain conditions, even when shapes differ, we can still perform elementwise binary operations by invoking the broadcasting mechanism."
   ]
  },
  {
   "cell_type": "code",
   "execution_count": 20,
   "id": "9e0fe989",
   "metadata": {},
   "outputs": [
    {
     "data": {
      "text/plain": [
       "(tensor([[0],\n",
       "         [1],\n",
       "         [2]]),\n",
       " tensor([[0, 1]]))"
      ]
     },
     "execution_count": 20,
     "metadata": {},
     "output_type": "execute_result"
    }
   ],
   "source": [
    "a = torch.arange(3).reshape((3, 1))\n",
    "b = torch.arange(2).reshape((1, 2))\n",
    "a, b"
   ]
  },
  {
   "cell_type": "markdown",
   "id": "93e9b0aa",
   "metadata": {},
   "source": [
    "Since a and b are 3 × 1 and 1 × 2 matrices, respectively, their shapes do not match up. Broadcasting produces a larger 3 × 2 matrix by replicating matrix a along the columns and matrix b along the rows before adding them elementwise."
   ]
  },
  {
   "cell_type": "code",
   "execution_count": 24,
   "id": "bc64d761",
   "metadata": {},
   "outputs": [
    {
     "name": "stdout",
     "output_type": "stream",
     "text": [
      "torch.Size([3, 2])\n",
      "tensor([[0, 1],\n",
      "        [1, 2],\n",
      "        [2, 3]])\n"
     ]
    }
   ],
   "source": [
    "print((a * b).shape)\n",
    "print(a + b)"
   ]
  },
  {
   "cell_type": "markdown",
   "id": "186ae70e",
   "metadata": {},
   "source": [
    "### Concatenate tensors, logical statements and sum-all-elements operation"
   ]
  },
  {
   "cell_type": "code",
   "execution_count": 29,
   "id": "92959b3d",
   "metadata": {},
   "outputs": [
    {
     "name": "stdout",
     "output_type": "stream",
     "text": [
      "tensor([[ 0.,  1.,  2.,  3.],\n",
      "        [ 4.,  5.,  6.,  7.],\n",
      "        [ 8.,  9., 10., 11.]])\n",
      "tensor([[2., 1., 4., 3.],\n",
      "        [1., 2., 3., 4.],\n",
      "        [4., 3., 2., 1.]])\n",
      "tensor([[ 0.,  1.,  2.,  3.],\n",
      "        [ 4.,  5.,  6.,  7.],\n",
      "        [ 8.,  9., 10., 11.],\n",
      "        [ 2.,  1.,  4.,  3.],\n",
      "        [ 1.,  2.,  3.,  4.],\n",
      "        [ 4.,  3.,  2.,  1.]])\n",
      "tensor([[ 0.,  1.,  2.,  3.,  2.,  1.,  4.,  3.],\n",
      "        [ 4.,  5.,  6.,  7.,  1.,  2.,  3.,  4.],\n",
      "        [ 8.,  9., 10., 11.,  4.,  3.,  2.,  1.]])\n"
     ]
    }
   ],
   "source": [
    "# this will be very useful when we will build Convolutional Neural Networks (CNNs) later in the course\n",
    "X = torch.arange(12, dtype=torch.float32).reshape((3,4))\n",
    "Y = torch.tensor([[2.0, 1, 4, 3], [1, 2, 3, 4], [4, 3, 2, 1]])\n",
    "\n",
    "print(X)\n",
    "print(Y)\n",
    "print(torch.cat((X, Y), dim=0)) # Concatenate along rows (dim=0)\n",
    "print(torch.cat((X, Y), dim=1)) # Concatenate along columns (dim=1)"
   ]
  },
  {
   "cell_type": "code",
   "execution_count": 30,
   "id": "f35b6e23",
   "metadata": {},
   "outputs": [
    {
     "data": {
      "text/plain": [
       "tensor([[False,  True, False,  True],\n",
       "        [False, False, False, False],\n",
       "        [False, False, False, False]])"
      ]
     },
     "execution_count": 30,
     "metadata": {},
     "output_type": "execute_result"
    }
   ],
   "source": [
    "X == Y # Element-wise comparison between tensors -- returns a tensor of boolean values"
   ]
  },
  {
   "cell_type": "code",
   "execution_count": 31,
   "id": "d6746f39",
   "metadata": {},
   "outputs": [
    {
     "data": {
      "text/plain": [
       "(tensor(66.), tensor([12., 15., 18., 21.]), tensor([ 6., 22., 38.]))"
      ]
     },
     "execution_count": 31,
     "metadata": {},
     "output_type": "execute_result"
    }
   ],
   "source": [
    "X.sum(), X.sum(dim=0), X.sum(dim=1) # Sum all elements, sum along rows, sum along columns"
   ]
  },
  {
   "cell_type": "markdown",
   "id": "f00e246e",
   "metadata": {},
   "source": [
    "### Saving Memory"
   ]
  },
  {
   "cell_type": "code",
   "execution_count": 37,
   "id": "6780316c",
   "metadata": {},
   "outputs": [
    {
     "data": {
      "text/plain": [
       "False"
      ]
     },
     "execution_count": 37,
     "metadata": {},
     "output_type": "execute_result"
    }
   ],
   "source": [
    "# this is crucial in machine learning, as models can have millions of parameters, and we need to save memory!\n",
    "before = id(Y) \n",
    "Y=Y+X\n",
    "id(Y) == before"
   ]
  },
  {
   "cell_type": "code",
   "execution_count": 38,
   "id": "ce9dfd5d",
   "metadata": {},
   "outputs": [
    {
     "name": "stdout",
     "output_type": "stream",
     "text": [
      "id(Z): 4960820016\n",
      "id(Z): 4960820016\n"
     ]
    }
   ],
   "source": [
    "Z = torch.zeros_like(Y)\n",
    "print('id(Z):', id(Z))\n",
    "Z[:] = X + Y\n",
    "print('id(Z):', id(Z))"
   ]
  },
  {
   "cell_type": "markdown",
   "id": "7a79074a",
   "metadata": {},
   "source": [
    "### Conversion to Other Python Objects"
   ]
  },
  {
   "cell_type": "code",
   "execution_count": 42,
   "id": "eba3050c",
   "metadata": {},
   "outputs": [
    {
     "name": "stdout",
     "output_type": "stream",
     "text": [
      "<class 'numpy.ndarray'>\n",
      "<class 'torch.Tensor'>\n"
     ]
    }
   ],
   "source": [
    "# this is how you convert a tensor to a numpy array and back \n",
    "A = X.numpy()\n",
    "B = torch.from_numpy(A)\n",
    "print(type(A))\n",
    "print(type(B))"
   ]
  },
  {
   "cell_type": "code",
   "execution_count": 44,
   "id": "ebf4bfb6",
   "metadata": {},
   "outputs": [
    {
     "data": {
      "text/plain": [
       "([[0.0, 1.0, 2.0, 3.0], [4.0, 5.0, 6.0, 7.0], [8.0, 9.0, 10.0, 11.0]],\n",
       " tensor([[ 0.,  1.,  2.,  3.],\n",
       "         [ 4.,  5.,  6.,  7.],\n",
       "         [ 8.,  9., 10., 11.]]))"
      ]
     },
     "execution_count": 44,
     "metadata": {},
     "output_type": "execute_result"
    }
   ],
   "source": [
    "# this is how you convert a tensor to a Python list (less used, but still useful)\n",
    "X.tolist(), X"
   ]
  },
  {
   "cell_type": "code",
   "execution_count": 48,
   "id": "9b72f66b",
   "metadata": {},
   "outputs": [
    {
     "name": "stdout",
     "output_type": "stream",
     "text": [
      "tensor([3.5000])\n",
      "3.5\n",
      "3.5\n",
      "3\n"
     ]
    }
   ],
   "source": [
    "a = torch.tensor([3.5])\n",
    "print(a)\n",
    "print(a.item())\n",
    "print(float(a))\n",
    "print(int(a))"
   ]
  },
  {
   "cell_type": "markdown",
   "id": "4d221b4f",
   "metadata": {},
   "source": [
    "## Data Preprocessing"
   ]
  },
  {
   "cell_type": "markdown",
   "id": "5a09a1c4",
   "metadata": {},
   "source": [
    "So far, we have been working with synthetic data that arrived in ready-made tensors. \n",
    "\n",
    "However, to apply deep learning in the wild we must extract messy data stored in arbitrary formats, and preprocess it to suit our needs. Fortunately, the pandas library45 can do much of the heavy lifting. "
   ]
  },
  {
   "cell_type": "code",
   "execution_count": 49,
   "id": "89627975",
   "metadata": {},
   "outputs": [],
   "source": [
    "import os\n",
    "import pandas as pd"
   ]
  },
  {
   "cell_type": "code",
   "execution_count": 50,
   "id": "5a7ca6a8",
   "metadata": {},
   "outputs": [],
   "source": [
    "os.makedirs(os.path.join('..', 'data'), exist_ok=True)\n",
    "\n",
    "data_file = os.path.join('..', 'data', 'house_tiny.csv')\n",
    "\n",
    "with open(data_file, 'w') as f:\n",
    "    f.write('''NumRooms,RoofType,Price\n",
    "NA,NA,127500\n",
    "2,NA,106000\n",
    "4,Slate,178100\n",
    "NA,NA,140000''')"
   ]
  },
  {
   "cell_type": "markdown",
   "id": "fac23a8b",
   "metadata": {},
   "source": [
    "Before proceeding, look for the file that you just created (in the `data` folder that appeared in your repository). Inspect the `house_tiny.csv` file."
   ]
  },
  {
   "cell_type": "code",
   "execution_count": 51,
   "id": "9d2d0ee1",
   "metadata": {},
   "outputs": [
    {
     "name": "stdout",
     "output_type": "stream",
     "text": [
      "   NumRooms RoofType   Price\n",
      "0       NaN      NaN  127500\n",
      "1       2.0      NaN  106000\n",
      "2       4.0    Slate  178100\n",
      "3       NaN      NaN  140000\n"
     ]
    }
   ],
   "source": [
    "data = pd.read_csv(data_file)\n",
    "print(data)"
   ]
  },
  {
   "cell_type": "markdown",
   "id": "2094a94e",
   "metadata": {},
   "source": [
    "Now, Our first step in processing the dataset is to separate out columns corresponding to input versus target values. \n",
    "We can select columns either by name or via integer-location based indexing (`iloc`)."
   ]
  },
  {
   "cell_type": "code",
   "execution_count": 57,
   "id": "1637bf7c",
   "metadata": {},
   "outputs": [
    {
     "name": "stdout",
     "output_type": "stream",
     "text": [
      "   NumRooms RoofType\n",
      "0       NaN      NaN\n",
      "1       2.0      NaN\n",
      "2       4.0    Slate\n",
      "3       NaN      NaN\n",
      "0    127500\n",
      "1    106000\n",
      "2    178100\n",
      "3    140000\n",
      "Name: Price, dtype: int64\n"
     ]
    }
   ],
   "source": [
    "inputs, targets = data.iloc[:, 0:2], data.iloc[:, 2]\n",
    "print(inputs)\n",
    "print(targets)"
   ]
  },
  {
   "cell_type": "markdown",
   "id": "b912d1fc",
   "metadata": {},
   "source": [
    "You might have noticed that pandas replaced all CSV entries with value NA with a spe- cial NaN (not a number) value. This can also happen whenever an entry is empty, e.g., “3„,270000”. These are called missing values and they are the “bed bugs” of data science.\n",
    "\n",
    " missing values might be handled either via \n",
    " - __imputation__ : replaces missing values with estimates of their values \n",
    " - __deletion__  : simply discards either those rows or those columns that contain missing values."
   ]
  },
  {
   "cell_type": "markdown",
   "id": "5abb9dd0",
   "metadata": {},
   "source": [
    "For categorical input fields, we can treat NaN as a category. Since the `RoofType` column takes values `Slate` and `NaN`, pandas can convert this column into two columns `RoofType_Slate` and `RoofType_nan`. "
   ]
  },
  {
   "cell_type": "code",
   "execution_count": 58,
   "id": "c968aa26",
   "metadata": {},
   "outputs": [
    {
     "name": "stdout",
     "output_type": "stream",
     "text": [
      "   NumRooms  RoofType_Slate  RoofType_nan\n",
      "0       NaN           False          True\n",
      "1       2.0           False          True\n",
      "2       4.0            True         False\n",
      "3       NaN           False          True\n"
     ]
    }
   ],
   "source": [
    "inputs = pd.get_dummies(inputs, dummy_na=True)\n",
    "print(inputs)"
   ]
  },
  {
   "cell_type": "markdown",
   "id": "b18c837a",
   "metadata": {},
   "source": [
    "For missing numerical values, one common heuristic is to replace the NaN entries with the mean value of the corresponding column."
   ]
  },
  {
   "cell_type": "code",
   "execution_count": 59,
   "id": "dc4ce1f2",
   "metadata": {},
   "outputs": [
    {
     "name": "stdout",
     "output_type": "stream",
     "text": [
      "   NumRooms  RoofType_Slate  RoofType_nan\n",
      "0       3.0           False          True\n",
      "1       2.0           False          True\n",
      "2       4.0            True         False\n",
      "3       3.0           False          True\n"
     ]
    }
   ],
   "source": [
    "inputs = inputs.fillna(inputs.mean())\n",
    "print(inputs)"
   ]
  },
  {
   "cell_type": "markdown",
   "id": "477dad1b",
   "metadata": {},
   "source": [
    "Now that all the entries in inputs and targets are numerical, we can load them into a tensor:"
   ]
  },
  {
   "cell_type": "code",
   "execution_count": 60,
   "id": "2d4d199a",
   "metadata": {},
   "outputs": [
    {
     "data": {
      "text/plain": [
       "(tensor([[3., 0., 1.],\n",
       "         [2., 0., 1.],\n",
       "         [4., 1., 0.],\n",
       "         [3., 0., 1.]], dtype=torch.float64),\n",
       " tensor([127500., 106000., 178100., 140000.], dtype=torch.float64))"
      ]
     },
     "execution_count": 60,
     "metadata": {},
     "output_type": "execute_result"
    }
   ],
   "source": [
    "X = torch.tensor(inputs.to_numpy(dtype=float))\n",
    "y = torch.tensor(targets.to_numpy(dtype=float))\n",
    "X, y"
   ]
  },
  {
   "cell_type": "markdown",
   "id": "7861edd2",
   "metadata": {},
   "source": [
    "Note: Data visualization tools such as seaborn47 , Bokeh48 , or matplotlib49 can help you to manually inspect the data and develop intuitions about the type of problems you may need to address."
   ]
  },
  {
   "cell_type": "markdown",
   "id": "5e6a1860",
   "metadata": {},
   "source": [
    "Try loading datasets, e.g., Abalone from the [UCI Machine Learning Repository](https://archive.ics.uci.edu) and inspect their properties. What fraction of them has missing values? What fraction of the variables is numerical, categorical, or text?"
   ]
  },
  {
   "cell_type": "markdown",
   "id": "9afb1db3",
   "metadata": {},
   "source": [
    "## Linear Algebra"
   ]
  },
  {
   "cell_type": "markdown",
   "id": "fb055ea2",
   "metadata": {},
   "source": [
    "### Scalars"
   ]
  },
  {
   "cell_type": "code",
   "execution_count": 61,
   "id": "91496402",
   "metadata": {},
   "outputs": [
    {
     "data": {
      "text/plain": [
       "(tensor(5.), tensor(6.), tensor(1.5000), tensor(9.))"
      ]
     },
     "execution_count": 61,
     "metadata": {},
     "output_type": "execute_result"
    }
   ],
   "source": [
    "x = torch.tensor(3.0)\n",
    "y = torch.tensor(2.0)\n",
    "x + y, x * y, x / y, x**y"
   ]
  },
  {
   "cell_type": "markdown",
   "id": "c47d72ef",
   "metadata": {},
   "source": [
    "### Vectors"
   ]
  },
  {
   "cell_type": "code",
   "execution_count": 62,
   "id": "69b99bb3",
   "metadata": {},
   "outputs": [
    {
     "data": {
      "text/plain": [
       "(tensor([0, 1, 2]), tensor(0), tensor(1), tensor(2))"
      ]
     },
     "execution_count": 62,
     "metadata": {},
     "output_type": "execute_result"
    }
   ],
   "source": [
    "# note that python has a zero-based indexing, so the first element is at index 0\n",
    "x = torch.arange(3)\n",
    "x, x[0], x[1], x[2]"
   ]
  },
  {
   "cell_type": "code",
   "execution_count": 65,
   "id": "136fe762",
   "metadata": {},
   "outputs": [
    {
     "data": {
      "text/plain": [
       "3"
      ]
     },
     "execution_count": 65,
     "metadata": {},
     "output_type": "execute_result"
    }
   ],
   "source": [
    "len(x) # Count the number of elements in the tensor\n"
   ]
  },
  {
   "cell_type": "code",
   "execution_count": 66,
   "id": "0edaef07",
   "metadata": {},
   "outputs": [
    {
     "data": {
      "text/plain": [
       "torch.Size([3])"
      ]
     },
     "execution_count": 66,
     "metadata": {},
     "output_type": "execute_result"
    }
   ],
   "source": [
    "x.shape # Get the shape of the tensor. Note this is a different type than the output of `len(x)`!"
   ]
  },
  {
   "cell_type": "markdown",
   "id": "a21d099a",
   "metadata": {},
   "source": [
    "### Matrices"
   ]
  },
  {
   "cell_type": "code",
   "execution_count": 67,
   "id": "ffcddd6f",
   "metadata": {},
   "outputs": [
    {
     "data": {
      "text/plain": [
       "tensor([[0, 1],\n",
       "        [2, 3],\n",
       "        [4, 5]])"
      ]
     },
     "execution_count": 67,
     "metadata": {},
     "output_type": "execute_result"
    }
   ],
   "source": [
    "A = torch.arange(6).reshape(3, 2)\n",
    "A"
   ]
  },
  {
   "cell_type": "code",
   "execution_count": 70,
   "id": "9e228ff3",
   "metadata": {},
   "outputs": [
    {
     "name": "stdout",
     "output_type": "stream",
     "text": [
      "tensor([[0, 1],\n",
      "        [2, 3],\n",
      "        [4, 5]])\n",
      "tensor([[0, 2, 4],\n",
      "        [1, 3, 5]])\n"
     ]
    }
   ],
   "source": [
    "A.T # Transpose the matrix A. Symmetric matrices are the subset of square matrices that are equal to their own transposes\n",
    "print(A)\n",
    "print(A.T) "
   ]
  },
  {
   "cell_type": "markdown",
   "id": "6551e81d",
   "metadata": {},
   "source": [
    "### Tensors and tensor aritmethic "
   ]
  },
  {
   "cell_type": "code",
   "execution_count": 71,
   "id": "1392125b",
   "metadata": {},
   "outputs": [
    {
     "data": {
      "text/plain": [
       "tensor([[[ 0,  1,  2,  3],\n",
       "         [ 4,  5,  6,  7],\n",
       "         [ 8,  9, 10, 11]],\n",
       "\n",
       "        [[12, 13, 14, 15],\n",
       "         [16, 17, 18, 19],\n",
       "         [20, 21, 22, 23]]])"
      ]
     },
     "execution_count": 71,
     "metadata": {},
     "output_type": "execute_result"
    }
   ],
   "source": [
    "torch.arange(24).reshape(2, 3, 4)"
   ]
  },
  {
   "cell_type": "code",
   "execution_count": null,
   "id": "9a34227e",
   "metadata": {},
   "outputs": [
    {
     "name": "stdout",
     "output_type": "stream",
     "text": [
      "tensor([[0., 1., 2.],\n",
      "        [3., 4., 5.]])\n",
      "tensor([[0., 1., 2.],\n",
      "        [3., 4., 5.]])\n",
      "tensor([[ 0.,  2.,  4.],\n",
      "        [ 6.,  8., 10.]])\n"
     ]
    },
    {
     "data": {
      "text/plain": [
       "(tensor([[0., 1., 2.],\n",
       "         [3., 4., 5.]]),\n",
       " tensor([[ 0.,  2.,  4.],\n",
       "         [ 6.,  8., 10.]]))"
      ]
     },
     "execution_count": 73,
     "metadata": {},
     "output_type": "execute_result"
    }
   ],
   "source": [
    "A = torch.arange(6, dtype=torch.float32).reshape(2, 3)\n",
    "B = A.clone()  # Assign a copy of A to B by allocating new memory\n",
    "print(A)\n",
    "print(B)\n",
    "print(A + B) # Element-wise addition\n"
   ]
  },
  {
   "cell_type": "markdown",
   "id": "6d4f114b",
   "metadata": {},
   "source": [
    "### Element-wise multiplication"
   ]
  },
  {
   "cell_type": "code",
   "execution_count": 74,
   "id": "aebccc8a",
   "metadata": {},
   "outputs": [
    {
     "data": {
      "text/plain": [
       "tensor([[ 0.,  1.,  4.],\n",
       "        [ 9., 16., 25.]])"
      ]
     },
     "execution_count": 74,
     "metadata": {},
     "output_type": "execute_result"
    }
   ],
   "source": [
    "A * B # Element-wise multiplication"
   ]
  },
  {
   "cell_type": "code",
   "execution_count": 76,
   "id": "dd27dcba",
   "metadata": {},
   "outputs": [
    {
     "name": "stdout",
     "output_type": "stream",
     "text": [
      "tensor([[[ 0,  1,  2,  3],\n",
      "         [ 4,  5,  6,  7],\n",
      "         [ 8,  9, 10, 11]],\n",
      "\n",
      "        [[12, 13, 14, 15],\n",
      "         [16, 17, 18, 19],\n",
      "         [20, 21, 22, 23]]])\n"
     ]
    },
    {
     "data": {
      "text/plain": [
       "(tensor([[[ 2,  3,  4,  5],\n",
       "          [ 6,  7,  8,  9],\n",
       "          [10, 11, 12, 13]],\n",
       " \n",
       "         [[14, 15, 16, 17],\n",
       "          [18, 19, 20, 21],\n",
       "          [22, 23, 24, 25]]]),\n",
       " tensor([[[ 0,  2,  4,  6],\n",
       "          [ 8, 10, 12, 14],\n",
       "          [16, 18, 20, 22]],\n",
       " \n",
       "         [[24, 26, 28, 30],\n",
       "          [32, 34, 36, 38],\n",
       "          [40, 42, 44, 46]]]),\n",
       " torch.Size([2, 3, 4]))"
      ]
     },
     "execution_count": 76,
     "metadata": {},
     "output_type": "execute_result"
    }
   ],
   "source": [
    "a = 2\n",
    "X = torch.arange(24).reshape(2, 3, 4) \n",
    "print(X)\n",
    "a + X, a * X, (a * X).shape # addition and multiplication with a scalar, and the shape of the resulting tensor (unchanged)"
   ]
  },
  {
   "cell_type": "markdown",
   "id": "7529b89f",
   "metadata": {},
   "source": [
    "### Sums of elements in a tensor"
   ]
  },
  {
   "cell_type": "code",
   "execution_count": 79,
   "id": "f0eaafc1",
   "metadata": {},
   "outputs": [
    {
     "name": "stdout",
     "output_type": "stream",
     "text": [
      "tensor([[0., 1., 2.],\n",
      "        [3., 4., 5.]])\n"
     ]
    },
    {
     "data": {
      "text/plain": [
       "(tensor(15.), tensor([3., 5., 7.]), tensor([ 3., 12.]))"
      ]
     },
     "execution_count": 79,
     "metadata": {},
     "output_type": "execute_result"
    }
   ],
   "source": [
    "# Sum of elements in a tensor\n",
    "print(A)\n",
    "A.sum(), A.sum(dim=0), A.sum(dim=1) # Sum all elements, sum along rows, sum along columns"
   ]
  },
  {
   "cell_type": "code",
   "execution_count": 80,
   "id": "5c900610",
   "metadata": {},
   "outputs": [
    {
     "data": {
      "text/plain": [
       "tensor(True)"
      ]
     },
     "execution_count": 80,
     "metadata": {},
     "output_type": "execute_result"
    }
   ],
   "source": [
    "A.sum(axis=[0, 1]) == A.sum() # Same as A.sum()"
   ]
  },
  {
   "cell_type": "code",
   "execution_count": 81,
   "id": "ac0833f5",
   "metadata": {},
   "outputs": [
    {
     "data": {
      "text/plain": [
       "(tensor(2.5000), tensor(2.5000))"
      ]
     },
     "execution_count": 81,
     "metadata": {},
     "output_type": "execute_result"
    }
   ],
   "source": [
    "A.mean(), A.sum() / A.numel() # Mean and average of elements in a tensor"
   ]
  },
  {
   "cell_type": "code",
   "execution_count": 82,
   "id": "89c6b06c",
   "metadata": {},
   "outputs": [
    {
     "data": {
      "text/plain": [
       "(tensor([1.5000, 2.5000, 3.5000]), tensor([1.5000, 2.5000, 3.5000]))"
      ]
     },
     "execution_count": 82,
     "metadata": {},
     "output_type": "execute_result"
    }
   ],
   "source": [
    "A.mean(axis=0), A.sum(axis=0) / A.shape[0] # Mean and average of elements in a tensor along the first axis"
   ]
  },
  {
   "cell_type": "code",
   "execution_count": 83,
   "id": "b005c6ab",
   "metadata": {},
   "outputs": [
    {
     "data": {
      "text/plain": [
       "(tensor([[0., 1., 2.],\n",
       "         [3., 4., 5.]]),\n",
       " torch.Size([2, 3]),\n",
       " tensor([3., 5., 7.]),\n",
       " torch.Size([3]),\n",
       " tensor([[ 3.],\n",
       "         [12.]]),\n",
       " torch.Size([2, 1]))"
      ]
     },
     "execution_count": 83,
     "metadata": {},
     "output_type": "execute_result"
    }
   ],
   "source": [
    "# Sometimes it can be useful to keep the number of axes unchanged when invoking the function for calculating the sum or mean. \n",
    "# This matters when we want to use the broadcast mechanism.\n",
    "\n",
    "sum_A = A.sum(axis=1, keepdims=True)\n",
    "A, A.shape, A.sum(axis=0), A.sum(axis=0).shape, sum_A, sum_A.shape"
   ]
  },
  {
   "cell_type": "code",
   "execution_count": null,
   "id": "6d12f2c1",
   "metadata": {},
   "outputs": [
    {
     "data": {
      "text/plain": [
       "tensor([[0.0000, 0.3333, 0.6667],\n",
       "        [0.2500, 0.3333, 0.4167]])"
      ]
     },
     "execution_count": 84,
     "metadata": {},
     "output_type": "execute_result"
    }
   ],
   "source": [
    "# Since sum_A keeps its two axes after summing each row, \n",
    "# we can divide A by sum_A with broadcasting to create a matrix where each row sums up to 1.\n",
    "# this is a common technique for normalizing data, expecially for classification tasks, in which\n",
    "# we want to ensure that the sum of probabilities across each row is 1.\n",
    "A / sum_A "
   ]
  },
  {
   "cell_type": "code",
   "execution_count": 85,
   "id": "b08122f7",
   "metadata": {},
   "outputs": [
    {
     "data": {
      "text/plain": [
       "tensor([[0., 1., 2.],\n",
       "        [3., 5., 7.]])"
      ]
     },
     "execution_count": 85,
     "metadata": {},
     "output_type": "execute_result"
    }
   ],
   "source": [
    "# If we want to calculate the cumulative sum of elements of A along some axis, say axis=0, \n",
    "# we can call the cumsum function.\n",
    "A.cumsum(axis=0)"
   ]
  },
  {
   "cell_type": "markdown",
   "id": "e5ff4a7f",
   "metadata": {},
   "source": [
    "### Dot product"
   ]
  },
  {
   "cell_type": "code",
   "execution_count": 88,
   "id": "cba9532d",
   "metadata": {},
   "outputs": [
    {
     "name": "stdout",
     "output_type": "stream",
     "text": [
      "tensor([0., 1., 2.])\n",
      "tensor([1., 1., 1.])\n",
      "tensor(3.)\n",
      "tensor(3.)\n"
     ]
    }
   ],
   "source": [
    "# dot product of two vectors\n",
    "x = torch.arange(3, dtype = torch.float32)\n",
    "y = torch.ones(3, dtype = torch.float32)\n",
    "print(x)\n",
    "print(y)\n",
    "print(torch.dot(x, y)) # dot product\n",
    "# or equivalently\n",
    "print(torch.sum(x * y)) # Element-wise multiplication followed by summation"
   ]
  },
  {
   "cell_type": "markdown",
   "id": "0f6a5092",
   "metadata": {},
   "source": [
    "### Matrix-vector multiplication"
   ]
  },
  {
   "cell_type": "code",
   "execution_count": 90,
   "id": "50616410",
   "metadata": {},
   "outputs": [
    {
     "name": "stdout",
     "output_type": "stream",
     "text": [
      "tensor([[0., 1., 2.],\n",
      "        [3., 4., 5.]])\n",
      "tensor([0., 1., 2.])\n"
     ]
    },
    {
     "data": {
      "text/plain": [
       "(torch.Size([2, 3]),\n",
       " torch.Size([3]),\n",
       " tensor([ 5., 14.]),\n",
       " tensor([ 5., 14.]),\n",
       " torch.Size([2]))"
      ]
     },
     "execution_count": 90,
     "metadata": {},
     "output_type": "execute_result"
    }
   ],
   "source": [
    "# Matrix-vector multiplication -- this is a common operation in machine learning, especially in linear layers\n",
    "print(A)\n",
    "print(x)\n",
    "A.shape, x.shape, torch.mv(A, x), A@x, (A@x).shape"
   ]
  },
  {
   "cell_type": "markdown",
   "id": "c69531c9",
   "metadata": {},
   "source": [
    "### Matrix-matrix multiplication"
   ]
  },
  {
   "cell_type": "code",
   "execution_count": 91,
   "id": "6e1168ee",
   "metadata": {},
   "outputs": [
    {
     "data": {
      "text/plain": [
       "(tensor([[0., 1., 2.],\n",
       "         [3., 4., 5.]]),\n",
       " tensor([[1., 1., 1., 1.],\n",
       "         [1., 1., 1., 1.],\n",
       "         [1., 1., 1., 1.]]),\n",
       " tensor([[ 3.,  3.,  3.,  3.],\n",
       "         [12., 12., 12., 12.]]),\n",
       " tensor([[ 3.,  3.,  3.,  3.],\n",
       "         [12., 12., 12., 12.]]))"
      ]
     },
     "execution_count": 91,
     "metadata": {},
     "output_type": "execute_result"
    }
   ],
   "source": [
    "# Matrix-matrix multiplication\n",
    "A = torch.arange(6, dtype=torch.float32).reshape(2, 3)\n",
    "B = torch.ones(3, 4)\n",
    "A, B, torch.mm(A, B), A@B"
   ]
  },
  {
   "cell_type": "markdown",
   "id": "907b8794",
   "metadata": {},
   "source": [
    "### Norms"
   ]
  },
  {
   "cell_type": "markdown",
   "id": "dd5d5f53",
   "metadata": {},
   "source": [
    "#### l2 norm (Euclidean norm)"
   ]
  },
  {
   "cell_type": "code",
   "execution_count": 92,
   "id": "f11c3382",
   "metadata": {},
   "outputs": [
    {
     "data": {
      "text/plain": [
       "tensor(5.)"
      ]
     },
     "execution_count": 92,
     "metadata": {},
     "output_type": "execute_result"
    }
   ],
   "source": [
    "u = torch.tensor([3.0, -4.0])\n",
    "torch.norm(u)"
   ]
  },
  {
   "cell_type": "code",
   "execution_count": 93,
   "id": "2e05ece5",
   "metadata": {},
   "outputs": [
    {
     "data": {
      "text/plain": [
       "tensor(5.)"
      ]
     },
     "execution_count": 93,
     "metadata": {},
     "output_type": "execute_result"
    }
   ],
   "source": [
    "(u * u).sum().sqrt()  #"
   ]
  },
  {
   "cell_type": "markdown",
   "id": "ddac97e0",
   "metadata": {},
   "source": [
    "#### l1 norm (Manhattan distance)"
   ]
  },
  {
   "cell_type": "code",
   "execution_count": 94,
   "id": "9214a049",
   "metadata": {},
   "outputs": [
    {
     "data": {
      "text/plain": [
       "tensor(7.)"
      ]
     },
     "execution_count": 94,
     "metadata": {},
     "output_type": "execute_result"
    }
   ],
   "source": [
    "torch.abs(u).sum()"
   ]
  },
  {
   "cell_type": "markdown",
   "id": "d4e1ff0b",
   "metadata": {},
   "source": [
    "#### Frobenius norm (l2 norm for matrices)"
   ]
  },
  {
   "cell_type": "code",
   "execution_count": 95,
   "id": "019166c9",
   "metadata": {},
   "outputs": [
    {
     "data": {
      "text/plain": [
       "(tensor([[1., 1., 1., 1., 1., 1., 1., 1., 1.],\n",
       "         [1., 1., 1., 1., 1., 1., 1., 1., 1.],\n",
       "         [1., 1., 1., 1., 1., 1., 1., 1., 1.],\n",
       "         [1., 1., 1., 1., 1., 1., 1., 1., 1.]]),\n",
       " tensor(6.))"
      ]
     },
     "execution_count": 95,
     "metadata": {},
     "output_type": "execute_result"
    }
   ],
   "source": [
    "D = torch.ones((4, 9))\n",
    "D, torch.norm(D)"
   ]
  },
  {
   "cell_type": "markdown",
   "id": "f8beb08d",
   "metadata": {},
   "source": [
    "-------------------- *YOUR TURN*!!! ----------------\n",
    "\n",
    "Define a vector x of values ranging between -5 and 5. Plot the x^2 and |x|. \n",
    "\n",
    "Looking at the plot, think about what is the effect of l2 and l1 norms of different vectors, how do their norms compare if both are computed as l2 or as l1?  "
   ]
  },
  {
   "cell_type": "code",
   "execution_count": 109,
   "id": "733ec168",
   "metadata": {},
   "outputs": [
    {
     "data": {
      "text/plain": [
       "<matplotlib.legend.Legend at 0x14b7910a0>"
      ]
     },
     "execution_count": 109,
     "metadata": {},
     "output_type": "execute_result"
    },
    {
     "data": {
      "image/png": "[encoded data removed]",
      "text/plain": [
       "<Figure size 640x480 with 1 Axes>"
      ]
     },
     "metadata": {},
     "output_type": "display_data"
    }
   ],
   "source": [
    "# write you code here. To plotting you can use the python library matplotlib\n",
    "import matplotlib.pyplot as plt\n",
    "\n",
    "# ...code for plotting...\n",
    "x = torch.arange(-5, 5, 0.1)\n",
    "plt.plot(x.numpy(), x.numpy() ** 2, color = 'red', label = 'x^2') # Plot y = x^2 in red color\n",
    "plt.plot(x.numpy(), x.abs().numpy(), color = 'blue', label = '|x|') # Plot y = |x| in blue color\n",
    "plt.xlabel('x') # Label for x-axis\n",
    "plt.ylabel('y') # Label for y-axis\n",
    "plt.title('x^2 and |x| using torch') # Title of the plot\n",
    "plt.legend()"
   ]
  },
  {
   "cell_type": "markdown",
   "id": "a065f88f",
   "metadata": {},
   "source": []
  },
  {
   "cell_type": "markdown",
   "id": "04899b9e",
   "metadata": {},
   "source": [
    "# Exercises"
   ]
  },
  {
   "cell_type": "markdown",
   "id": "2eefb75b",
   "metadata": {},
   "source": [
    "Use your coding skills to do the following exercises."
   ]
  },
  {
   "cell_type": "markdown",
   "id": "e01407ba",
   "metadata": {},
   "source": [
    "### Ex. 1 -- Prove that the transpose of the transpose of a matrix is the matrix itself \n",
    "\n",
    "$(A^⊤)^⊤ = A$."
   ]
  },
  {
   "cell_type": "code",
   "execution_count": 114,
   "id": "0b0e6428",
   "metadata": {},
   "outputs": [
    {
     "name": "stdout",
     "output_type": "stream",
     "text": [
      "tensor([[ 0.,  1.,  2.,  3.,  4.],\n",
      "        [ 5.,  6.,  7.,  8.,  9.],\n",
      "        [10., 11., 12., 13., 14.],\n",
      "        [15., 16., 17., 18., 19.]])\n",
      "tensor([[ 0.,  1.,  2.,  3.,  4.],\n",
      "        [ 5.,  6.,  7.,  8.,  9.],\n",
      "        [10., 11., 12., 13., 14.],\n",
      "        [15., 16., 17., 18., 19.]])\n"
     ]
    }
   ],
   "source": [
    "A = torch.arange(20, dtype=torch.float32).reshape(4, 5) # Matrix with 4 rows and 5 columns\n",
    "print(A)\n",
    "print(A.T.T) # Transpose twice returns the original matrix"
   ]
  },
  {
   "cell_type": "markdown",
   "id": "77f05cea",
   "metadata": {},
   "source": [
    "### Ex. 2 -- Given two matrices A and B, show that sum and transposition commute: \n",
    "\n",
    "$A^⊤ + B^⊤ = (A + B)^⊤$."
   ]
  },
  {
   "cell_type": "code",
   "execution_count": 119,
   "id": "28e6343e",
   "metadata": {},
   "outputs": [
    {
     "name": "stdout",
     "output_type": "stream",
     "text": [
      "tensor([[ 0.,  1.,  2.,  3.,  4.],\n",
      "        [ 5.,  6.,  7.,  8.,  9.],\n",
      "        [10., 11., 12., 13., 14.],\n",
      "        [15., 16., 17., 18., 19.]])\n",
      "tensor([[ 0.,  1.,  2.,  3.,  4.],\n",
      "        [ 5.,  6.,  7.,  8.,  9.],\n",
      "        [10., 11., 12., 13., 14.],\n",
      "        [15., 16., 17., 18., 19.]])\n",
      "tensor([[ 0., 10., 20., 30.],\n",
      "        [ 2., 12., 22., 32.],\n",
      "        [ 4., 14., 24., 34.],\n",
      "        [ 6., 16., 26., 36.],\n",
      "        [ 8., 18., 28., 38.]])\n",
      "tensor([[ 0., 10., 20., 30.],\n",
      "        [ 2., 12., 22., 32.],\n",
      "        [ 4., 14., 24., 34.],\n",
      "        [ 6., 16., 26., 36.],\n",
      "        [ 8., 18., 28., 38.]])\n"
     ]
    }
   ],
   "source": [
    "A = torch.arange(20, dtype=torch.float32).reshape(4, 5) # Matrix with 2 rows and 5 columns\n",
    "B = torch.arange(20, dtype=torch.float32).reshape(4, 5) # Matrix with 5 rows and 3 columns\n",
    "print(A)\n",
    "print(B)\n",
    "print(A.T + B.T)\n",
    "print((A + B).T) \n",
    "# Both are the same if the dimensions are the same"
   ]
  },
  {
   "cell_type": "markdown",
   "id": "32bb648b",
   "metadata": {},
   "source": [
    "### Ex. 3 -- We defined the tensor X of shape (2, 3, 4) in this section. What is the output of len(X)? Write your answer without implementing any code, then check your answer using code."
   ]
  },
  {
   "cell_type": "code",
   "execution_count": 126,
   "id": "fd338531",
   "metadata": {},
   "outputs": [
    {
     "name": "stdout",
     "output_type": "stream",
     "text": [
      "tensor([[[ 0,  1,  2,  3],\n",
      "         [ 4,  5,  6,  7],\n",
      "         [ 8,  9, 10, 11]],\n",
      "\n",
      "        [[12, 13, 14, 15],\n",
      "         [16, 17, 18, 19],\n",
      "         [20, 21, 22, 23]]])\n",
      "2\n",
      "2\n"
     ]
    }
   ],
   "source": [
    "# len(X) returns the size of the first dimension of X\n",
    "print(X)\n",
    "print(len(X))\n",
    "print(X.size(0))\n",
    "# They are equivalent"
   ]
  },
  {
   "cell_type": "markdown",
   "id": "07af372d",
   "metadata": {},
   "source": [
    "### Ex 4 -- Consider three matrices, say A, B, C ∈ R100×200. Construct a tensor with three axes by stacking [A, B, C]. What is the dimensionality? Slice out the second coordinate of the third axis to recover B. Check that your answer is correct."
   ]
  },
  {
   "cell_type": "code",
   "execution_count": null,
   "id": "97833eac",
   "metadata": {},
   "outputs": [],
   "source": []
  },
  {
   "cell_type": "markdown",
   "id": "2b118add",
   "metadata": {},
   "source": [
    "### Ex 5 -- Consider three large matrices, say A ∈ R210 ×216 , B ∈ R216 ×25 and C ∈ R25 ×214 , initialized with Gaussian random variables. You want to compute the product ABC. Is there any difference in memory footprint and speed, depending on whether you compute (AB)C or A(BC). Why?"
   ]
  },
  {
   "cell_type": "code",
   "execution_count": null,
   "id": "4687a924",
   "metadata": {},
   "outputs": [],
   "source": [
    "#A  = ...\n",
    "#B  = ...\n",
    "#C  = ...\n",
    "\n",
    "\n",
    "import tracemalloc\n",
    "\n",
    "# Memory footprint of the product (AB)C\n",
    "tracemalloc.start()\n",
    "AB = torch.mm(A, B)\n",
    "ABC = torch.mm(AB, C)\n",
    "current, peak = tracemalloc.get_traced_memory()\n",
    "print(f\"Current memory usage: {current / (1024 * 1024):.5f} MB\")\n",
    "print(f\"Peak memory usage: {peak / (1024 * 1024):.5f} MB\")\n",
    "tracemalloc.stop()\n",
    "\n",
    "# Memory footprint of the product A(BC)\n",
    "tracemalloc.start()\n",
    "BC = torch.mm(B, C)\n",
    "ABC_alt = torch.mm(A, BC)\n",
    "current2, peak2 = tracemalloc.get_traced_memory()\n",
    "print(f\"Current memory usage: {current2 / (1024 * 1024):.5f} MB\")\n",
    "print(f\"Peak memory usage: {peak2 / (1024 * 1024):.5f} MB\")\n",
    "tracemalloc.stop()\n"
   ]
  }
 ],
 "metadata": {
  "kernelspec": {
   "display_name": "d2l",
   "language": "python",
   "name": "python3"
  },
  "language_info": {
   "codemirror_mode": {
    "name": "ipython",
    "version": 3
   },
   "file_extension": ".py",
   "mimetype": "text/x-python",
   "name": "python",
   "nbconvert_exporter": "python",
   "pygments_lexer": "ipython3",
   "version": "3.9.23"
  }
 },
 "nbformat": 4,
 "nbformat_minor": 5
}
